{
 "cells": [
  {
   "cell_type": "code",
   "execution_count": 1,
   "metadata": {
    "_cell_guid": "b1076dfc-b9ad-4769-8c92-a6c4dae69d19",
    "_uuid": "8f2839f25d086af736a60e9eeb907d3b93b6e0e5",
    "execution": {
     "iopub.execute_input": "2020-12-10T19:23:26.415934Z",
     "iopub.status.busy": "2020-12-10T19:23:26.415340Z",
     "iopub.status.idle": "2020-12-10T19:23:28.584518Z",
     "shell.execute_reply": "2020-12-10T19:23:28.583449Z"
    },
    "papermill": {
     "duration": 2.181493,
     "end_time": "2020-12-10T19:23:28.584661",
     "exception": false,
     "start_time": "2020-12-10T19:23:26.403168",
     "status": "completed"
    },
    "tags": []
   },
   "outputs": [],
   "source": [
    "import numpy as np # linear algebra\n",
    "import pandas as pd # data processing, CSV file I/O (e.g. pd.read_csv)\n",
    "from datetime import datetime, timedelta\n",
    "from dateutil.relativedelta import relativedelta\n",
    "import os, random\n",
    "\n",
    "import matplotlib.pyplot as plt\n",
    "\n",
    "from sklearn.preprocessing import MinMaxScaler\n",
    "\n",
    "import torch\n",
    "import torch.nn as nn\n",
    "import torch.optim as optim"
   ]
  },
  {
   "cell_type": "code",
   "execution_count": 2,
   "metadata": {
    "_cell_guid": "79c7e3d0-c299-4dcb-8224-4455121ee9b0",
    "_uuid": "d629ff2d2480ee46fbb7e2d37f6b5fab8052498a",
    "execution": {
     "iopub.execute_input": "2020-12-10T19:23:28.604939Z",
     "iopub.status.busy": "2020-12-10T19:23:28.604368Z",
     "iopub.status.idle": "2020-12-10T19:23:31.967682Z",
     "shell.execute_reply": "2020-12-10T19:23:31.968142Z"
    },
    "papermill": {
     "duration": 3.377393,
     "end_time": "2020-12-10T19:23:31.968301",
     "exception": false,
     "start_time": "2020-12-10T19:23:28.590908",
     "status": "completed"
    },
    "tags": []
   },
   "outputs": [],
   "source": [
    "all_df = pd.read_csv('../input/fda-termproject/all_asset_2010_2020.csv')\n",
    "all_df['Date'] = all_df.Date.apply(lambda x: datetime.strptime(x, '%Y-%m-%d'))\n",
    "all_df.set_index('Date',inplace=True)"
   ]
  },
  {
   "cell_type": "markdown",
   "metadata": {
    "papermill": {
     "duration": 0.005467,
     "end_time": "2020-12-10T19:23:31.979924",
     "exception": false,
     "start_time": "2020-12-10T19:23:31.974457",
     "status": "completed"
    },
    "tags": []
   },
   "source": [
    "## code hide"
   ]
  },
  {
   "cell_type": "code",
   "execution_count": 3,
   "metadata": {
    "execution": {
     "iopub.execute_input": "2020-12-10T19:23:32.022208Z",
     "iopub.status.busy": "2020-12-10T19:23:32.020647Z",
     "iopub.status.idle": "2020-12-10T19:23:32.023311Z",
     "shell.execute_reply": "2020-12-10T19:23:32.023742Z"
    },
    "papermill": {
     "duration": 0.03827,
     "end_time": "2020-12-10T19:23:32.023840",
     "exception": false,
     "start_time": "2020-12-10T19:23:31.985570",
     "status": "completed"
    },
    "tags": []
   },
   "outputs": [],
   "source": [
    "def seed_everything(seed=42):\n",
    "    random.seed(seed)\n",
    "    os.environ['PYTHONHASHSEED'] = str(seed)\n",
    "    np.random.seed(seed)\n",
    "    torch.manual_seed(seed)\n",
    "    torch.cuda.manual_seed(seed)\n",
    "    torch.backends.cudnn.deterministic = True\n",
    "\n",
    "def split_data(stock, lookback):\n",
    "    data_raw = stock.to_numpy() # convert to numpy array\n",
    "    data = []\n",
    "    \n",
    "    # create all possible sequences of length seq_len\n",
    "    for index in range(len(data_raw) - lookback): \n",
    "        data.append(data_raw[index: index + lookback])\n",
    "    \n",
    "    data = np.array(data);\n",
    "    test_set_size = int(np.round(0.2*data.shape[0]));\n",
    "    train_set_size = data.shape[0] - (test_set_size);\n",
    "    \n",
    "    x_train = data[:train_set_size,:-1,:]\n",
    "    y_train = data[:train_set_size,-1,:]\n",
    "    \n",
    "    x_test = data[train_set_size:,:-1]\n",
    "    y_test = data[train_set_size:,-1,:]\n",
    "    \n",
    "    return [x_train, y_train, x_test, y_test]\n",
    "\n",
    "class StockDataset:\n",
    "    def __init__(self, features, targets):\n",
    "        self.features = features\n",
    "        self.targets = targets\n",
    "        \n",
    "    def __len__(self):\n",
    "        return (self.features.shape[0])\n",
    "    \n",
    "    def __getitem__(self, idx):\n",
    "        dct = {\n",
    "            'x' : torch.tensor(self.features[idx,:], dtype=torch.float),\n",
    "            'y' : torch.tensor(self.targets[idx, :], dtype=torch.float)\n",
    "        }\n",
    "        return dct\n",
    "    \n",
    "class TestDataset:\n",
    "    def __init__(self, features):\n",
    "        self.features = features\n",
    "        \n",
    "    def __len__(self):\n",
    "        return (self.features.shape[0])\n",
    "    \n",
    "    def __getitem__(self, idx):\n",
    "        dct = {\n",
    "            'x' : torch.tensor(self.features[idx, :], dtype=torch.float)\n",
    "        }\n",
    "        return dct\n",
    "\n",
    "class LSTM(nn.Module):\n",
    "    def __init__(self, input_dim, hidden_dim, num_layers, output_dim):\n",
    "        super(LSTM, self).__init__()\n",
    "        self.hidden_dim = hidden_dim\n",
    "        self.num_layers = num_layers\n",
    "        \n",
    "        self.lstm = nn.LSTM(input_dim, hidden_dim, num_layers, batch_first=True)\n",
    "        self.fc = nn.Linear(hidden_dim, output_dim)\n",
    "        \n",
    "    def forward(self, x):\n",
    "        h0 = torch.zeros(self.num_layers, x.size(0), self.hidden_dim).requires_grad_().to(device)\n",
    "        c0 = torch.zeros(self.num_layers, x.size(0), self.hidden_dim).requires_grad_().to(device)\n",
    "        out, (hn, cn) = self.lstm(x, (h0.detach(), c0.detach()))\n",
    "        out = self.fc(out[:, -1, :]) \n",
    "        return out\n",
    "\n",
    "def train_fn(model, optimizer, scheduler, loss_fn, dataloader, device):\n",
    "    model.train()\n",
    "    final_loss = 0\n",
    "    \n",
    "    for data in dataloader:\n",
    "        optimizer.zero_grad()\n",
    "        inputs, targets = data['x'].to(device), data['y'].to(device)\n",
    "        \n",
    "        outputs = model(inputs)\n",
    "        loss = loss_fn(outputs, targets)\n",
    "        loss.backward()\n",
    "        optimizer.step()\n",
    "        scheduler.step()\n",
    "        \n",
    "        final_loss += loss.item()\n",
    "    \n",
    "    final_loss /= len(dataloader)\n",
    "    \n",
    "    return final_loss\n",
    "\n",
    "def valid_fn(model, loss_fn, dataloader, device):\n",
    "    model.eval()\n",
    "    final_loss = 0\n",
    "    valid_preds = []\n",
    "    \n",
    "    for data in dataloader:\n",
    "        inputs, targets = data['x'].to(device), data['y'].to(device)\n",
    "        outputs = model(inputs)\n",
    "        loss = loss_fn(outputs, targets)\n",
    "        \n",
    "        final_loss += loss.item()\n",
    "        valid_preds.append(outputs.sigmoid().detach().cpu().numpy())\n",
    "        \n",
    "    final_loss /= len(dataloader)\n",
    "    valid_preds = np.concatenate(valid_preds)\n",
    "    \n",
    "    return final_loss, valid_preds"
   ]
  },
  {
   "cell_type": "code",
   "execution_count": 4,
   "metadata": {
    "execution": {
     "iopub.execute_input": "2020-12-10T19:23:32.395007Z",
     "iopub.status.busy": "2020-12-10T19:23:32.393990Z",
     "iopub.status.idle": "2020-12-10T19:23:32.400913Z",
     "shell.execute_reply": "2020-12-10T19:23:32.400121Z"
    },
    "papermill": {
     "duration": 0.371699,
     "end_time": "2020-12-10T19:23:32.401063",
     "exception": false,
     "start_time": "2020-12-10T19:23:32.029364",
     "status": "completed"
    },
    "tags": []
   },
   "outputs": [],
   "source": [
    "input_dim = 1\n",
    "hidden_dim = 32\n",
    "num_layers = 2\n",
    "output_dim = 1\n",
    "num_epochs = 200\n",
    "device = ('cuda' if torch.cuda.is_available() else 'cpu')\n",
    "lr = 0.01"
   ]
  },
  {
   "cell_type": "code",
   "execution_count": 5,
   "metadata": {
    "execution": {
     "iopub.execute_input": "2020-12-10T19:23:32.430755Z",
     "iopub.status.busy": "2020-12-10T19:23:32.429969Z",
     "iopub.status.idle": "2020-12-10T19:23:32.446045Z",
     "shell.execute_reply": "2020-12-10T19:23:32.446709Z"
    },
    "papermill": {
     "duration": 0.035477,
     "end_time": "2020-12-10T19:23:32.446879",
     "exception": false,
     "start_time": "2020-12-10T19:23:32.411402",
     "status": "completed"
    },
    "tags": []
   },
   "outputs": [],
   "source": [
    "def run_training(df, asset_name):\n",
    "    seed_everything(seed=42)\n",
    "    \n",
    "    stock = df[[asset_name]].resample('M').agg('last').dropna()\n",
    "    scaler = MinMaxScaler().fit(stock.values.reshape(-1,1))\n",
    "    stock[asset_name] = scaler.transform(stock)\n",
    "    \n",
    "    lookback = 12\n",
    "    x_train, y_train, x_valid, y_valid = split_data(stock, lookback)\n",
    "    \n",
    "    train_dataset = StockDataset(x_train, y_train)\n",
    "    valid_dataset = StockDataset(x_valid, y_valid)\n",
    "    trainloader = torch.utils.data.DataLoader(train_dataset, batch_size=64, shuffle=True)\n",
    "    validloader = torch.utils.data.DataLoader(valid_dataset, batch_size=64, shuffle=False)\n",
    "\n",
    "    model = LSTM(input_dim=input_dim, hidden_dim=hidden_dim, output_dim=output_dim, num_layers=num_layers)\n",
    "    model.to(device)\n",
    "\n",
    "    optimizer = torch.optim.Adam(model.parameters(), lr=lr)\n",
    "    scheduler = optim.lr_scheduler.OneCycleLR(optimizer=optimizer, pct_start=0.1, div_factor=1e3,\n",
    "                                              max_lr=1e-2, epochs=num_epochs, steps_per_epoch=len(trainloader))\n",
    "\n",
    "    loss_fn = torch.nn.MSELoss(reduction='mean')\n",
    "\n",
    "    best_pred = []\n",
    "\n",
    "    best_epoch = 0\n",
    "    for epoch in range(num_epochs):\n",
    "        train_loss = train_fn(model, optimizer, scheduler, loss_fn, trainloader, device)\n",
    "        valid_loss, valid_preds = valid_fn(model, loss_fn, validloader, device)\n",
    "\n",
    "        best_loss = np.inf\n",
    "        equiv = np.inf\n",
    "        if valid_loss < best_loss:\n",
    "\n",
    "            best_loss = valid_loss\n",
    "            equiv = train_loss\n",
    "            best_pred.append(valid_preds)\n",
    "            best_epoch = epoch\n",
    "\n",
    "    \n",
    "    print(f'BEST EPOCH: {epoch}, train_loss: {equiv:.5f}, valid_loss :{valid_loss:.5f}')\n",
    "    \n",
    "    inverse_y = scaler.inverse_transform(y_valid)\n",
    "    inverse_y_hat = scaler.inverse_transform(best_pred[-1])\n",
    "    \n",
    "    return inverse_y, inverse_y_hat"
   ]
  },
  {
   "cell_type": "code",
   "execution_count": 6,
   "metadata": {
    "execution": {
     "iopub.execute_input": "2020-12-10T19:23:32.472842Z",
     "iopub.status.busy": "2020-12-10T19:23:32.472085Z",
     "iopub.status.idle": "2020-12-10T19:23:39.915517Z",
     "shell.execute_reply": "2020-12-10T19:23:39.916239Z"
    },
    "papermill": {
     "duration": 7.460186,
     "end_time": "2020-12-10T19:23:39.916401",
     "exception": false,
     "start_time": "2020-12-10T19:23:32.456215",
     "status": "completed"
    },
    "tags": []
   },
   "outputs": [
    {
     "name": "stdout",
     "output_type": "stream",
     "text": [
      "BEST EPOCH: 199, train_loss: 0.00028, valid_loss :0.00708\n"
     ]
    }
   ],
   "source": [
    "price, price_pred =run_training(all_df, 'AAPL')"
   ]
  },
  {
   "cell_type": "code",
   "execution_count": 7,
   "metadata": {
    "execution": {
     "iopub.execute_input": "2020-12-10T19:23:39.933978Z",
     "iopub.status.busy": "2020-12-10T19:23:39.933401Z",
     "iopub.status.idle": "2020-12-10T19:23:40.084111Z",
     "shell.execute_reply": "2020-12-10T19:23:40.084531Z"
    },
    "papermill": {
     "duration": 0.161596,
     "end_time": "2020-12-10T19:23:40.084654",
     "exception": false,
     "start_time": "2020-12-10T19:23:39.923058",
     "status": "completed"
    },
    "tags": []
   },
   "outputs": [
    {
     "data": {
      "image/png": "[encoded data removed]",
      "text/plain": [
       "<Figure size 432x288 with 1 Axes>"
      ]
     },
     "metadata": {
      "needs_background": "light"
     },
     "output_type": "display_data"
    }
   ],
   "source": [
    "fig, ax = plt.subplots(1,1)\n",
    "ax.plot(price, label='true')\n",
    "ax.plot(price_pred, label='pred')\n",
    "\n",
    "plt.legend()\n",
    "plt.show()"
   ]
  }
 ],
 "metadata": {
  "kernelspec": {
   "display_name": "Python 3",
   "language": "python",
   "name": "python3"
  },
  "language_info": {
   "codemirror_mode": {
    "name": "ipython",
    "version": 3
   },
   "file_extension": ".py",
   "mimetype": "text/x-python",
   "name": "python",
   "nbconvert_exporter": "python",
   "pygments_lexer": "ipython3",
   "version": "3.7.6"
  },
  "papermill": {
   "duration": 18.725213,
   "end_time": "2020-12-10T19:23:41.275700",
   "environment_variables": {},
   "exception": null,
   "input_path": "__notebook__.ipynb",
   "output_path": "__notebook__.ipynb",
   "parameters": {},
   "start_time": "2020-12-10T19:23:22.550487",
   "version": "2.1.0"
  }
 },
 "nbformat": 4,
 "nbformat_minor": 4
}
