{
 "cells": [
  {
   "cell_type": "markdown",
   "metadata": {
    "id": "ZF3iwffNABaV"
   },
   "source": [
    "## import module"
   ]
  },
  {
   "cell_type": "code",
   "execution_count": 2,
   "metadata": {
    "id": "OJsbBFKZ_9aY"
   },
   "outputs": [],
   "source": [
    "import pandas as pd\n",
    "import numpy as np\n",
    "import cvxpy as cp\n",
    "from datetime import datetime, timedelta\n",
    "import pandas_datareader.data as web\n",
    "\n",
    "from dateutil.relativedelta import relativedelta"
   ]
  },
  {
   "cell_type": "markdown",
   "metadata": {
    "id": "42lhbSPMj9cg"
   },
   "source": [
    "저장된 파일을 불러옵니다."
   ]
  },
  {
   "cell_type": "code",
   "execution_count": 3,
   "metadata": {
    "id": "5iV477glAFCA"
   },
   "outputs": [],
   "source": [
    "all_df = pd.read_csv('all_asset_2010_2020.csv')\n",
    "all_df['Date'] = all_df.Date.apply(lambda x: datetime.strptime(x, '%Y-%m-%d'))\n",
    "all_df.set_index('Date',inplace=True)"
   ]
  },
  {
   "cell_type": "code",
   "execution_count": 4,
   "metadata": {
    "id": "XacDFjIjDJWj"
   },
   "outputs": [],
   "source": [
    "symbols = ['AAPL', 'MSFT', 'AMZN']# 'FB', 'GOOGL', 'GOOG', 'TSLA', 'NVDA', 'CMCSA', 'ADBE']\n",
    "st ='2020-06-01'\n",
    "en = '2020-10-30'\n",
    "unittime = '1m'\n",
    "lookback = '6m'\n",
    "rebalance = '2m'"
   ]
  },
  {
   "cell_type": "markdown",
   "metadata": {
    "id": "XOrT59UDD0Hd"
   },
   "source": [
    "이후 날짜 설정을 용이하게 하기 위해 datetime으로 변경하는 부분입니다."
   ]
  },
  {
   "cell_type": "code",
   "execution_count": 5,
   "metadata": {
    "id": "xVX6dfTUDBq9"
   },
   "outputs": [],
   "source": [
    "st = datetime(int(st[:4]),int(st[5:7]),int(st[8:10]))\n",
    "en = datetime(int(en[:4]),int(en[5:7]),int(en[8:10]))\n",
    "def timestr_to_datetime(s):\n",
    "  if s[-1] == 'd':\n",
    "    return timedelta(days=int(s[:-1]))\n",
    "  elif s[-1] == 'w':\n",
    "    return timedelta(weeks=int(s[:-1]))\n",
    "  elif s[-1] == 'm':\n",
    "    return relativedelta(months=int(s[:-1]))\n",
    "  elif s[-1] == 'y':\n",
    "    return relativedelta(years=int(s[:-1]))\n",
    "\n",
    "unittime = timestr_to_datetime(unittime)\n",
    "lookback = timestr_to_datetime(lookback)\n",
    "rebalance = timestr_to_datetime(rebalance)"
   ]
  },
  {
   "cell_type": "code",
   "execution_count": 6,
   "metadata": {
    "id": "M6_YbDjuE9Li"
   },
   "outputs": [],
   "source": [
    "def mv_opt(data,symbols, cons=[''], ret_target = None): \n",
    "    ## 받아야 하는 걸로 symbols 추가함):\n",
    "    n = len(data.T)   # asset number\n",
    "    W = cp.Variable(n)  # weight of assets\n",
    "    R = data.mean()*252\n",
    "    C = data.cov()*252\n",
    "\n",
    "    objective = cp.Minimize(cp.quad_form(W, C))\n",
    "    constraints = [cp.sum(W) == 1, W >= 0]\n",
    "    if 'n-sh' in cons:\n",
    "        if ret_target == None:\n",
    "            ret_target = np.dot(R.T, mv_opt(data, symbols)/100)\n",
    "            ret_target = np.round(ret_target,2) + 0.02\n",
    "        constraints.append(W @ R >= ret_target)\n",
    "        \n",
    "    if 'aloc-rst' in cons:\n",
    "        STOP = False ## 여러 개 추가 가능, while 문으로 받기\n",
    "        while not STOP:\n",
    "            L = 0; H = 0 # 초기값\n",
    "            L = int(input(\"Low bound(없으면 0 | 있으면 0.X , X에 해당하는 숫자만 입력)\"))\n",
    "            H = int(input(\"High bound(없으면 0 | 있으면 0.X , X에 해당하는 숫자만 입력)\"))\n",
    "            weight_symbol = input(\"제약 대상 주식 코드(띄어쓰기로 분리), 따옴표 X \").split(' ')\n",
    "            Matrix = [0 for i in range(n)]\n",
    "            temp= [symbols.index(i) for i in weight_symbol]\n",
    "            for i in temp:\n",
    "                Matrix[i] = 1 ## 제약 대상인 weight만 1로 남긴다. => sum(W @ Matrix)으로 H, L 바운드 설정\n",
    "\n",
    "            if L & (not H): # Low bound만 있다. \n",
    "                constraints.append(cp.sum(W @ Matrix) >= L/10)        \n",
    "            if (not L) & H: # High bound만 있다. \n",
    "                constraints.append(cp.sum(W @ Matrix) <= H/10)        \n",
    "            if L & H: # 둘 다 있다. \n",
    "                constraints.append(cp.sum(W @ Matrix) >= L/10)        \n",
    "                constraints.append(cp.sum(W @ Matrix) <= H/10)                                       \n",
    "            STOP = bool(input(\"제약 추가 종료하겠습니까? True or False\"))\n",
    "\n",
    "    if 'Tracking-error' in cons:\n",
    "        SP500 = web.DataReader(['sp500'], 'fred', st, en)\n",
    "        sp_ret = sp_ret[index-lb:index].pct_change().dropna()\n",
    "\n",
    "                    \n",
    "\n",
    "        \n",
    "    problem = cp.Problem(objective, constraints)\n",
    "    problem.solve(solver=cp.ECOS)\n",
    "    return W.value.round(6)*100"
   ]
  },
  {
   "cell_type": "code",
   "execution_count": 7,
   "metadata": {
    "id": "okLduf7IIIqm"
   },
   "outputs": [],
   "source": [
    "def backtest(symbols, st, en, ut,lb, rb,dropna=True):\n",
    "  def data_by_dates():\n",
    "    data = all_df[symbols]\n",
    "    df = pd.DataFrame(columns = symbols)\n",
    "    date = st-lookback\n",
    "    while date < en:\n",
    "        df.loc[data[date:].index[0]] = data[date:].values[0]\n",
    "        date += ut\n",
    "    rb_date = []\n",
    "    date = st\n",
    "    while date < en:\n",
    "        rb_date.append(data[date:].index[0])\n",
    "        date += rb\n",
    "    return df, rb_date\n",
    "  df, rb_date = data_by_dates()\n",
    "  df_ret = df.pct_change().dropna()\n",
    "  \n",
    "  col = [i+'_amt' for i in symbols]\n",
    "  col.append('total_amt')\n",
    "  col.append('portfolio_ret')\n",
    "  col+= [i+'_weight' for i in symbols]\n",
    "  result = pd.DataFrame(columns = col)\n",
    "  T_amt = 100\n",
    "\n",
    "  for index, row in df.iterrows():\n",
    "    if st <= index:\n",
    "      if index in rb_date:\n",
    "        weight = mv_opt(df_ret[index-lb:index], symbols) ## symbols 추가함\n",
    "      amt = (df_ret[index:index]+1)*weight*T_amt/100\n",
    "      for i in range(len(symbols)):\n",
    "        s = symbols[i]\n",
    "        result.loc[index,s+'_amt'] = amt[s].values[0]\n",
    "        result.loc[index,s+'_weight'] = weight[i]\n",
    "      T_amt_ = T_amt\n",
    "      T_amt = amt.sum(axis = 1).values[0]\n",
    "      result.loc[index,'total_amt'] = T_amt\n",
    "      result.loc[index,'portfolio_ret'] = T_amt/T_amt_ - 1\n",
    "  if dropna == True:\n",
    "    return result.loc[:,result.eq(0).sum(axis=0) != len(result)]\n",
    "  return result"
   ]
  },
  {
   "cell_type": "code",
   "execution_count": 8,
   "metadata": {
    "colab": {
     "base_uri": "https://localhost:8080/",
     "height": 195
    },
    "id": "NqFLmgzGQjRZ",
    "outputId": "74386350-8293-4ff1-c68d-ec2363c84acc"
   },
   "outputs": [],
   "source": [
    "df = backtest(symbols, st, en, unittime, lookback, rebalance)"
   ]
  },
  {
   "cell_type": "code",
   "execution_count": 9,
   "metadata": {},
   "outputs": [],
   "source": [
    "import plotly.graph_objects as go"
   ]
  },
  {
   "cell_type": "code",
   "execution_count": 10,
   "metadata": {},
   "outputs": [
    {
     "data": {
      "text/html": [
       "<div>\n",
       "<style scoped>\n",
       "    .dataframe tbody tr th:only-of-type {\n",
       "        vertical-align: middle;\n",
       "    }\n",
       "\n",
       "    .dataframe tbody tr th {\n",
       "        vertical-align: top;\n",
       "    }\n",
       "\n",
       "    .dataframe thead th {\n",
       "        text-align: right;\n",
       "    }\n",
       "</style>\n",
       "<table border=\"1\" class=\"dataframe\">\n",
       "  <thead>\n",
       "    <tr style=\"text-align: right;\">\n",
       "      <th></th>\n",
       "      <th>MSFT_amt</th>\n",
       "      <th>AMZN_amt</th>\n",
       "      <th>total_amt</th>\n",
       "      <th>portfolio_ret</th>\n",
       "      <th>MSFT_weight</th>\n",
       "      <th>AMZN_weight</th>\n",
       "    </tr>\n",
       "  </thead>\n",
       "  <tbody>\n",
       "    <tr>\n",
       "      <th>2020-06-01</th>\n",
       "      <td>13.0429</td>\n",
       "      <td>94.6685</td>\n",
       "      <td>107.711</td>\n",
       "      <td>0.0771142</td>\n",
       "      <td>12.4191</td>\n",
       "      <td>87.5809</td>\n",
       "    </tr>\n",
       "    <tr>\n",
       "      <th>2020-07-01</th>\n",
       "      <td>14.9769</td>\n",
       "      <td>109.897</td>\n",
       "      <td>124.874</td>\n",
       "      <td>0.159342</td>\n",
       "      <td>12.4191</td>\n",
       "      <td>87.5809</td>\n",
       "    </tr>\n",
       "    <tr>\n",
       "      <th>2020-08-03</th>\n",
       "      <td>40.9102</td>\n",
       "      <td>93.1838</td>\n",
       "      <td>134.094</td>\n",
       "      <td>0.0738313</td>\n",
       "      <td>30.9698</td>\n",
       "      <td>69.0302</td>\n",
       "    </tr>\n",
       "    <tr>\n",
       "      <th>2020-09-01</th>\n",
       "      <td>43.6918</td>\n",
       "      <td>104.084</td>\n",
       "      <td>147.776</td>\n",
       "      <td>0.10203</td>\n",
       "      <td>30.9698</td>\n",
       "      <td>69.0302</td>\n",
       "    </tr>\n",
       "    <tr>\n",
       "      <th>2020-10-01</th>\n",
       "      <td>109.969</td>\n",
       "      <td>27.7479</td>\n",
       "      <td>137.717</td>\n",
       "      <td>-0.0680701</td>\n",
       "      <td>79.6033</td>\n",
       "      <td>20.3967</td>\n",
       "    </tr>\n",
       "  </tbody>\n",
       "</table>\n",
       "</div>"
      ],
      "text/plain": [
       "           MSFT_amt AMZN_amt total_amt portfolio_ret MSFT_weight AMZN_weight\n",
       "2020-06-01  13.0429  94.6685   107.711     0.0771142     12.4191     87.5809\n",
       "2020-07-01  14.9769  109.897   124.874      0.159342     12.4191     87.5809\n",
       "2020-08-03  40.9102  93.1838   134.094     0.0738313     30.9698     69.0302\n",
       "2020-09-01  43.6918  104.084   147.776       0.10203     30.9698     69.0302\n",
       "2020-10-01  109.969  27.7479   137.717    -0.0680701     79.6033     20.3967"
      ]
     },
     "execution_count": 10,
     "metadata": {},
     "output_type": "execute_result"
    }
   ],
   "source": [
    "df"
   ]
  },
  {
   "cell_type": "markdown",
   "metadata": {},
   "source": [
    "# Back Test"
   ]
  },
  {
   "cell_type": "code",
   "execution_count": 28,
   "metadata": {},
   "outputs": [],
   "source": [
    "## sp500의 monthly data (from yahoo)\n",
    "sp = pd.read_csv('sp500_monthly.csv')\n",
    "sp['sp_ret'] = sp['Adj Close'].pct_change()\n"
   ]
  },
  {
   "cell_type": "code",
   "execution_count": 29,
   "metadata": {},
   "outputs": [
    {
     "data": {
      "text/html": [
       "<div>\n",
       "<style scoped>\n",
       "    .dataframe tbody tr th:only-of-type {\n",
       "        vertical-align: middle;\n",
       "    }\n",
       "\n",
       "    .dataframe tbody tr th {\n",
       "        vertical-align: top;\n",
       "    }\n",
       "\n",
       "    .dataframe thead th {\n",
       "        text-align: right;\n",
       "    }\n",
       "</style>\n",
       "<table border=\"1\" class=\"dataframe\">\n",
       "  <thead>\n",
       "    <tr style=\"text-align: right;\">\n",
       "      <th></th>\n",
       "      <th>Date</th>\n",
       "      <th>Open</th>\n",
       "      <th>High</th>\n",
       "      <th>Low</th>\n",
       "      <th>Close</th>\n",
       "      <th>Adj Close</th>\n",
       "      <th>Volume</th>\n",
       "      <th>sp_ret</th>\n",
       "    </tr>\n",
       "  </thead>\n",
       "  <tbody>\n",
       "    <tr>\n",
       "      <th>0</th>\n",
       "      <td>2011-01-01</td>\n",
       "      <td>1257.619995</td>\n",
       "      <td>1302.670044</td>\n",
       "      <td>1257.619995</td>\n",
       "      <td>1286.119995</td>\n",
       "      <td>1286.119995</td>\n",
       "      <td>92164940000</td>\n",
       "      <td>NaN</td>\n",
       "    </tr>\n",
       "    <tr>\n",
       "      <th>1</th>\n",
       "      <td>2011-02-01</td>\n",
       "      <td>1289.140015</td>\n",
       "      <td>1344.069946</td>\n",
       "      <td>1289.140015</td>\n",
       "      <td>1327.219971</td>\n",
       "      <td>1327.219971</td>\n",
       "      <td>59223660000</td>\n",
       "      <td>0.031957</td>\n",
       "    </tr>\n",
       "    <tr>\n",
       "      <th>2</th>\n",
       "      <td>2011-03-01</td>\n",
       "      <td>1328.640015</td>\n",
       "      <td>1332.280029</td>\n",
       "      <td>1249.050049</td>\n",
       "      <td>1325.829956</td>\n",
       "      <td>1325.829956</td>\n",
       "      <td>89507640000</td>\n",
       "      <td>-0.001047</td>\n",
       "    </tr>\n",
       "    <tr>\n",
       "      <th>3</th>\n",
       "      <td>2011-04-01</td>\n",
       "      <td>1329.479980</td>\n",
       "      <td>1364.560059</td>\n",
       "      <td>1294.699951</td>\n",
       "      <td>1363.609985</td>\n",
       "      <td>1363.609985</td>\n",
       "      <td>77364810000</td>\n",
       "      <td>0.028495</td>\n",
       "    </tr>\n",
       "    <tr>\n",
       "      <th>4</th>\n",
       "      <td>2011-05-01</td>\n",
       "      <td>1365.209961</td>\n",
       "      <td>1370.579956</td>\n",
       "      <td>1311.800049</td>\n",
       "      <td>1345.199951</td>\n",
       "      <td>1345.199951</td>\n",
       "      <td>81708980000</td>\n",
       "      <td>-0.013501</td>\n",
       "    </tr>\n",
       "  </tbody>\n",
       "</table>\n",
       "</div>"
      ],
      "text/plain": [
       "         Date         Open         High          Low        Close  \\\n",
       "0  2011-01-01  1257.619995  1302.670044  1257.619995  1286.119995   \n",
       "1  2011-02-01  1289.140015  1344.069946  1289.140015  1327.219971   \n",
       "2  2011-03-01  1328.640015  1332.280029  1249.050049  1325.829956   \n",
       "3  2011-04-01  1329.479980  1364.560059  1294.699951  1363.609985   \n",
       "4  2011-05-01  1365.209961  1370.579956  1311.800049  1345.199951   \n",
       "\n",
       "     Adj Close       Volume    sp_ret  \n",
       "0  1286.119995  92164940000       NaN  \n",
       "1  1327.219971  59223660000  0.031957  \n",
       "2  1325.829956  89507640000 -0.001047  \n",
       "3  1363.609985  77364810000  0.028495  \n",
       "4  1345.199951  81708980000 -0.013501  "
      ]
     },
     "execution_count": 29,
     "metadata": {},
     "output_type": "execute_result"
    }
   ],
   "source": [
    "sp.head()"
   ]
  },
  {
   "cell_type": "code",
   "execution_count": 30,
   "metadata": {},
   "outputs": [],
   "source": [
    "## df 데이터의 date와 sp500의 data를 통일 시켜주기 위해 YYYY-DD-01 로 맞춤\n",
    "df['year'] = df.index.year.astype(str)\n",
    "df['month'] = df.index.month.astype(str)\n",
    "df['month'] = df['month'].apply(lambda x: '0'+x if len(x) == 1 else x)\n",
    "df['dateInt']=df['year'].astype(str) + '-' +df['month'].astype(str) + '-01'"
   ]
  },
  {
   "cell_type": "code",
   "execution_count": 31,
   "metadata": {},
   "outputs": [],
   "source": [
    "## sp500데이터에서 df와 동일한 기간만을 추출\n",
    "sp = sp[sp['Date'].isin(df['dateInt'])]"
   ]
  },
  {
   "cell_type": "code",
   "execution_count": 32,
   "metadata": {},
   "outputs": [
    {
     "data": {
      "text/html": [
       "<div>\n",
       "<style scoped>\n",
       "    .dataframe tbody tr th:only-of-type {\n",
       "        vertical-align: middle;\n",
       "    }\n",
       "\n",
       "    .dataframe tbody tr th {\n",
       "        vertical-align: top;\n",
       "    }\n",
       "\n",
       "    .dataframe thead th {\n",
       "        text-align: right;\n",
       "    }\n",
       "</style>\n",
       "<table border=\"1\" class=\"dataframe\">\n",
       "  <thead>\n",
       "    <tr style=\"text-align: right;\">\n",
       "      <th></th>\n",
       "      <th>Date</th>\n",
       "      <th>Open</th>\n",
       "      <th>High</th>\n",
       "      <th>Low</th>\n",
       "      <th>Close</th>\n",
       "      <th>Adj Close</th>\n",
       "      <th>Volume</th>\n",
       "      <th>sp_ret</th>\n",
       "    </tr>\n",
       "  </thead>\n",
       "  <tbody>\n",
       "    <tr>\n",
       "      <th>113</th>\n",
       "      <td>2020-06-01</td>\n",
       "      <td>3038.780029</td>\n",
       "      <td>3233.129883</td>\n",
       "      <td>2965.659912</td>\n",
       "      <td>3100.290039</td>\n",
       "      <td>3100.290039</td>\n",
       "      <td>131044000000</td>\n",
       "      <td>0.018388</td>\n",
       "    </tr>\n",
       "    <tr>\n",
       "      <th>114</th>\n",
       "      <td>2020-07-01</td>\n",
       "      <td>3105.919922</td>\n",
       "      <td>3279.989990</td>\n",
       "      <td>3101.169922</td>\n",
       "      <td>3271.120117</td>\n",
       "      <td>3271.120117</td>\n",
       "      <td>97197020000</td>\n",
       "      <td>0.055101</td>\n",
       "    </tr>\n",
       "    <tr>\n",
       "      <th>115</th>\n",
       "      <td>2020-08-01</td>\n",
       "      <td>3288.260010</td>\n",
       "      <td>3514.770020</td>\n",
       "      <td>3284.530029</td>\n",
       "      <td>3500.310059</td>\n",
       "      <td>3500.310059</td>\n",
       "      <td>84402300000</td>\n",
       "      <td>0.070065</td>\n",
       "    </tr>\n",
       "    <tr>\n",
       "      <th>116</th>\n",
       "      <td>2020-09-01</td>\n",
       "      <td>3507.439941</td>\n",
       "      <td>3588.110107</td>\n",
       "      <td>3209.449951</td>\n",
       "      <td>3363.000000</td>\n",
       "      <td>3363.000000</td>\n",
       "      <td>92084120000</td>\n",
       "      <td>-0.039228</td>\n",
       "    </tr>\n",
       "    <tr>\n",
       "      <th>117</th>\n",
       "      <td>2020-10-01</td>\n",
       "      <td>3385.870117</td>\n",
       "      <td>3549.850098</td>\n",
       "      <td>3233.939941</td>\n",
       "      <td>3269.959961</td>\n",
       "      <td>3269.959961</td>\n",
       "      <td>89737600000</td>\n",
       "      <td>-0.027666</td>\n",
       "    </tr>\n",
       "  </tbody>\n",
       "</table>\n",
       "</div>"
      ],
      "text/plain": [
       "           Date         Open         High          Low        Close  \\\n",
       "113  2020-06-01  3038.780029  3233.129883  2965.659912  3100.290039   \n",
       "114  2020-07-01  3105.919922  3279.989990  3101.169922  3271.120117   \n",
       "115  2020-08-01  3288.260010  3514.770020  3284.530029  3500.310059   \n",
       "116  2020-09-01  3507.439941  3588.110107  3209.449951  3363.000000   \n",
       "117  2020-10-01  3385.870117  3549.850098  3233.939941  3269.959961   \n",
       "\n",
       "       Adj Close        Volume    sp_ret  \n",
       "113  3100.290039  131044000000  0.018388  \n",
       "114  3271.120117   97197020000  0.055101  \n",
       "115  3500.310059   84402300000  0.070065  \n",
       "116  3363.000000   92084120000 -0.039228  \n",
       "117  3269.959961   89737600000 -0.027666  "
      ]
     },
     "execution_count": 32,
     "metadata": {},
     "output_type": "execute_result"
    }
   ],
   "source": [
    "sp"
   ]
  },
  {
   "cell_type": "markdown",
   "metadata": {},
   "source": [
    "## 수익률 차트"
   ]
  },
  {
   "cell_type": "code",
   "execution_count": 33,
   "metadata": {},
   "outputs": [
    {
     "data": {
      "application/vnd.plotly.v1+json": {
       "config": {
        "plotlyServerURL": "https://plot.ly"
       },
       "data": [
        {
         "mode": "lines+markers",
         "name": "Our_ret",
         "type": "scatter",
         "x": [
          "2020-06-01",
          "2020-07-01",
          "2020-08-01",
          "2020-09-01",
          "2020-10-01"
         ],
         "y": [
          0.07711417998488534,
          0.15934225633971288,
          0.07383128522462878,
          0.10203013303355934,
          -0.0680700549553378
         ]
        },
        {
         "mode": "lines+markers",
         "name": "SP500_ret",
         "type": "scatter",
         "x": [
          "2020-06-01",
          "2020-07-01",
          "2020-08-01",
          "2020-09-01",
          "2020-10-01"
         ],
         "y": [
          0.018388396357494674,
          0.055101321441235696,
          0.07006466708724646,
          -0.039227970289931524,
          -0.02766578620279514
         ]
        }
       ],
       "layout": {
        "template": {
         "data": {
          "bar": [
           {
            "error_x": {
             "color": "#2a3f5f"
            },
            "error_y": {
             "color": "#2a3f5f"
            },
            "marker": {
             "line": {
              "color": "#E5ECF6",
              "width": 0.5
             }
            },
            "type": "bar"
           }
          ],
          "barpolar": [
           {
            "marker": {
             "line": {
              "color": "#E5ECF6",
              "width": 0.5
             }
            },
            "type": "barpolar"
           }
          ],
          "carpet": [
           {
            "aaxis": {
             "endlinecolor": "#2a3f5f",
             "gridcolor": "white",
             "linecolor": "white",
             "minorgridcolor": "white",
             "startlinecolor": "#2a3f5f"
            },
            "baxis": {
             "endlinecolor": "#2a3f5f",
             "gridcolor": "white",
             "linecolor": "white",
             "minorgridcolor": "white",
             "startlinecolor": "#2a3f5f"
            },
            "type": "carpet"
           }
          ],
          "choropleth": [
           {
            "colorbar": {
             "outlinewidth": 0,
             "ticks": ""
            },
            "type": "choropleth"
           }
          ],
          "contour": [
           {
            "colorbar": {
             "outlinewidth": 0,
             "ticks": ""
            },
            "colorscale": [
             [
              0,
              "#0d0887"
             ],
             [
              0.1111111111111111,
              "#46039f"
             ],
             [
              0.2222222222222222,
              "#7201a8"
             ],
             [
              0.3333333333333333,
              "#9c179e"
             ],
             [
              0.4444444444444444,
              "#bd3786"
             ],
             [
              0.5555555555555556,
              "#d8576b"
             ],
             [
              0.6666666666666666,
              "#ed7953"
             ],
             [
              0.7777777777777778,
              "#fb9f3a"
             ],
             [
              0.8888888888888888,
              "#fdca26"
             ],
             [
              1,
              "#f0f921"
             ]
            ],
            "type": "contour"
           }
          ],
          "contourcarpet": [
           {
            "colorbar": {
             "outlinewidth": 0,
             "ticks": ""
            },
            "type": "contourcarpet"
           }
          ],
          "heatmap": [
           {
            "colorbar": {
             "outlinewidth": 0,
             "ticks": ""
            },
            "colorscale": [
             [
              0,
              "#0d0887"
             ],
             [
              0.1111111111111111,
              "#46039f"
             ],
             [
              0.2222222222222222,
              "#7201a8"
             ],
             [
              0.3333333333333333,
              "#9c179e"
             ],
             [
              0.4444444444444444,
              "#bd3786"
             ],
             [
              0.5555555555555556,
              "#d8576b"
             ],
             [
              0.6666666666666666,
              "#ed7953"
             ],
             [
              0.7777777777777778,
              "#fb9f3a"
             ],
             [
              0.8888888888888888,
              "#fdca26"
             ],
             [
              1,
              "#f0f921"
             ]
            ],
            "type": "heatmap"
           }
          ],
          "heatmapgl": [
           {
            "colorbar": {
             "outlinewidth": 0,
             "ticks": ""
            },
            "colorscale": [
             [
              0,
              "#0d0887"
             ],
             [
              0.1111111111111111,
              "#46039f"
             ],
             [
              0.2222222222222222,
              "#7201a8"
             ],
             [
              0.3333333333333333,
              "#9c179e"
             ],
             [
              0.4444444444444444,
              "#bd3786"
             ],
             [
              0.5555555555555556,
              "#d8576b"
             ],
             [
              0.6666666666666666,
              "#ed7953"
             ],
             [
              0.7777777777777778,
              "#fb9f3a"
             ],
             [
              0.8888888888888888,
              "#fdca26"
             ],
             [
              1,
              "#f0f921"
             ]
            ],
            "type": "heatmapgl"
           }
          ],
          "histogram": [
           {
            "marker": {
             "colorbar": {
              "outlinewidth": 0,
              "ticks": ""
             }
            },
            "type": "histogram"
           }
          ],
          "histogram2d": [
           {
            "colorbar": {
             "outlinewidth": 0,
             "ticks": ""
            },
            "colorscale": [
             [
              0,
              "#0d0887"
             ],
             [
              0.1111111111111111,
              "#46039f"
             ],
             [
              0.2222222222222222,
              "#7201a8"
             ],
             [
              0.3333333333333333,
              "#9c179e"
             ],
             [
              0.4444444444444444,
              "#bd3786"
             ],
             [
              0.5555555555555556,
              "#d8576b"
             ],
             [
              0.6666666666666666,
              "#ed7953"
             ],
             [
              0.7777777777777778,
              "#fb9f3a"
             ],
             [
              0.8888888888888888,
              "#fdca26"
             ],
             [
              1,
              "#f0f921"
             ]
            ],
            "type": "histogram2d"
           }
          ],
          "histogram2dcontour": [
           {
            "colorbar": {
             "outlinewidth": 0,
             "ticks": ""
            },
            "colorscale": [
             [
              0,
              "#0d0887"
             ],
             [
              0.1111111111111111,
              "#46039f"
             ],
             [
              0.2222222222222222,
              "#7201a8"
             ],
             [
              0.3333333333333333,
              "#9c179e"
             ],
             [
              0.4444444444444444,
              "#bd3786"
             ],
             [
              0.5555555555555556,
              "#d8576b"
             ],
             [
              0.6666666666666666,
              "#ed7953"
             ],
             [
              0.7777777777777778,
              "#fb9f3a"
             ],
             [
              0.8888888888888888,
              "#fdca26"
             ],
             [
              1,
              "#f0f921"
             ]
            ],
            "type": "histogram2dcontour"
           }
          ],
          "mesh3d": [
           {
            "colorbar": {
             "outlinewidth": 0,
             "ticks": ""
            },
            "type": "mesh3d"
           }
          ],
          "parcoords": [
           {
            "line": {
             "colorbar": {
              "outlinewidth": 0,
              "ticks": ""
             }
            },
            "type": "parcoords"
           }
          ],
          "pie": [
           {
            "automargin": true,
            "type": "pie"
           }
          ],
          "scatter": [
           {
            "marker": {
             "colorbar": {
              "outlinewidth": 0,
              "ticks": ""
             }
            },
            "type": "scatter"
           }
          ],
          "scatter3d": [
           {
            "line": {
             "colorbar": {
              "outlinewidth": 0,
              "ticks": ""
             }
            },
            "marker": {
             "colorbar": {
              "outlinewidth": 0,
              "ticks": ""
             }
            },
            "type": "scatter3d"
           }
          ],
          "scattercarpet": [
           {
            "marker": {
             "colorbar": {
              "outlinewidth": 0,
              "ticks": ""
             }
            },
            "type": "scattercarpet"
           }
          ],
          "scattergeo": [
           {
            "marker": {
             "colorbar": {
              "outlinewidth": 0,
              "ticks": ""
             }
            },
            "type": "scattergeo"
           }
          ],
          "scattergl": [
           {
            "marker": {
             "colorbar": {
              "outlinewidth": 0,
              "ticks": ""
             }
            },
            "type": "scattergl"
           }
          ],
          "scattermapbox": [
           {
            "marker": {
             "colorbar": {
              "outlinewidth": 0,
              "ticks": ""
             }
            },
            "type": "scattermapbox"
           }
          ],
          "scatterpolar": [
           {
            "marker": {
             "colorbar": {
              "outlinewidth": 0,
              "ticks": ""
             }
            },
            "type": "scatterpolar"
           }
          ],
          "scatterpolargl": [
           {
            "marker": {
             "colorbar": {
              "outlinewidth": 0,
              "ticks": ""
             }
            },
            "type": "scatterpolargl"
           }
          ],
          "scatterternary": [
           {
            "marker": {
             "colorbar": {
              "outlinewidth": 0,
              "ticks": ""
             }
            },
            "type": "scatterternary"
           }
          ],
          "surface": [
           {
            "colorbar": {
             "outlinewidth": 0,
             "ticks": ""
            },
            "colorscale": [
             [
              0,
              "#0d0887"
             ],
             [
              0.1111111111111111,
              "#46039f"
             ],
             [
              0.2222222222222222,
              "#7201a8"
             ],
             [
              0.3333333333333333,
              "#9c179e"
             ],
             [
              0.4444444444444444,
              "#bd3786"
             ],
             [
              0.5555555555555556,
              "#d8576b"
             ],
             [
              0.6666666666666666,
              "#ed7953"
             ],
             [
              0.7777777777777778,
              "#fb9f3a"
             ],
             [
              0.8888888888888888,
              "#fdca26"
             ],
             [
              1,
              "#f0f921"
             ]
            ],
            "type": "surface"
           }
          ],
          "table": [
           {
            "cells": {
             "fill": {
              "color": "#EBF0F8"
             },
             "line": {
              "color": "white"
             }
            },
            "header": {
             "fill": {
              "color": "#C8D4E3"
             },
             "line": {
              "color": "white"
             }
            },
            "type": "table"
           }
          ]
         },
         "layout": {
          "annotationdefaults": {
           "arrowcolor": "#2a3f5f",
           "arrowhead": 0,
           "arrowwidth": 1
          },
          "coloraxis": {
           "colorbar": {
            "outlinewidth": 0,
            "ticks": ""
           }
          },
          "colorscale": {
           "diverging": [
            [
             0,
             "#8e0152"
            ],
            [
             0.1,
             "#c51b7d"
            ],
            [
             0.2,
             "#de77ae"
            ],
            [
             0.3,
             "#f1b6da"
            ],
            [
             0.4,
             "#fde0ef"
            ],
            [
             0.5,
             "#f7f7f7"
            ],
            [
             0.6,
             "#e6f5d0"
            ],
            [
             0.7,
             "#b8e186"
            ],
            [
             0.8,
             "#7fbc41"
            ],
            [
             0.9,
             "#4d9221"
            ],
            [
             1,
             "#276419"
            ]
           ],
           "sequential": [
            [
             0,
             "#0d0887"
            ],
            [
             0.1111111111111111,
             "#46039f"
            ],
            [
             0.2222222222222222,
             "#7201a8"
            ],
            [
             0.3333333333333333,
             "#9c179e"
            ],
            [
             0.4444444444444444,
             "#bd3786"
            ],
            [
             0.5555555555555556,
             "#d8576b"
            ],
            [
             0.6666666666666666,
             "#ed7953"
            ],
            [
             0.7777777777777778,
             "#fb9f3a"
            ],
            [
             0.8888888888888888,
             "#fdca26"
            ],
            [
             1,
             "#f0f921"
            ]
           ],
           "sequentialminus": [
            [
             0,
             "#0d0887"
            ],
            [
             0.1111111111111111,
             "#46039f"
            ],
            [
             0.2222222222222222,
             "#7201a8"
            ],
            [
             0.3333333333333333,
             "#9c179e"
            ],
            [
             0.4444444444444444,
             "#bd3786"
            ],
            [
             0.5555555555555556,
             "#d8576b"
            ],
            [
             0.6666666666666666,
             "#ed7953"
            ],
            [
             0.7777777777777778,
             "#fb9f3a"
            ],
            [
             0.8888888888888888,
             "#fdca26"
            ],
            [
             1,
             "#f0f921"
            ]
           ]
          },
          "colorway": [
           "#636efa",
           "#EF553B",
           "#00cc96",
           "#ab63fa",
           "#FFA15A",
           "#19d3f3",
           "#FF6692",
           "#B6E880",
           "#FF97FF",
           "#FECB52"
          ],
          "font": {
           "color": "#2a3f5f"
          },
          "geo": {
           "bgcolor": "white",
           "lakecolor": "white",
           "landcolor": "#E5ECF6",
           "showlakes": true,
           "showland": true,
           "subunitcolor": "white"
          },
          "hoverlabel": {
           "align": "left"
          },
          "hovermode": "closest",
          "mapbox": {
           "style": "light"
          },
          "paper_bgcolor": "white",
          "plot_bgcolor": "#E5ECF6",
          "polar": {
           "angularaxis": {
            "gridcolor": "white",
            "linecolor": "white",
            "ticks": ""
           },
           "bgcolor": "#E5ECF6",
           "radialaxis": {
            "gridcolor": "white",
            "linecolor": "white",
            "ticks": ""
           }
          },
          "scene": {
           "xaxis": {
            "backgroundcolor": "#E5ECF6",
            "gridcolor": "white",
            "gridwidth": 2,
            "linecolor": "white",
            "showbackground": true,
            "ticks": "",
            "zerolinecolor": "white"
           },
           "yaxis": {
            "backgroundcolor": "#E5ECF6",
            "gridcolor": "white",
            "gridwidth": 2,
            "linecolor": "white",
            "showbackground": true,
            "ticks": "",
            "zerolinecolor": "white"
           },
           "zaxis": {
            "backgroundcolor": "#E5ECF6",
            "gridcolor": "white",
            "gridwidth": 2,
            "linecolor": "white",
            "showbackground": true,
            "ticks": "",
            "zerolinecolor": "white"
           }
          },
          "shapedefaults": {
           "line": {
            "color": "#2a3f5f"
           }
          },
          "ternary": {
           "aaxis": {
            "gridcolor": "white",
            "linecolor": "white",
            "ticks": ""
           },
           "baxis": {
            "gridcolor": "white",
            "linecolor": "white",
            "ticks": ""
           },
           "bgcolor": "#E5ECF6",
           "caxis": {
            "gridcolor": "white",
            "linecolor": "white",
            "ticks": ""
           }
          },
          "title": {
           "x": 0.05
          },
          "xaxis": {
           "automargin": true,
           "gridcolor": "white",
           "linecolor": "white",
           "ticks": "",
           "title": {
            "standoff": 15
           },
           "zerolinecolor": "white",
           "zerolinewidth": 2
          },
          "yaxis": {
           "automargin": true,
           "gridcolor": "white",
           "linecolor": "white",
           "ticks": "",
           "title": {
            "standoff": 15
           },
           "zerolinecolor": "white",
           "zerolinewidth": 2
          }
         }
        }
       }
      },
      "text/html": [
       "<div>\n",
       "        \n",
       "        \n",
       "            <div id=\"c1e6e84f-bc3a-469f-9472-21ef6d10dd5a\" class=\"plotly-graph-div\" style=\"height:525px; width:100%;\"></div>\n",
       "            <script type=\"text/javascript\">\n",
       "                require([\"plotly\"], function(Plotly) {\n",
       "                    window.PLOTLYENV=window.PLOTLYENV || {};\n",
       "                    \n",
       "                if (document.getElementById(\"c1e6e84f-bc3a-469f-9472-21ef6d10dd5a\")) {\n",
       "                    Plotly.newPlot(\n",
       "                        'c1e6e84f-bc3a-469f-9472-21ef6d10dd5a',\n",
       "                        [{\"mode\": \"lines+markers\", \"name\": \"Our_ret\", \"type\": \"scatter\", \"x\": [\"2020-06-01\", \"2020-07-01\", \"2020-08-01\", \"2020-09-01\", \"2020-10-01\"], \"y\": [0.07711417998488534, 0.15934225633971288, 0.07383128522462878, 0.10203013303355934, -0.0680700549553378]}, {\"mode\": \"lines+markers\", \"name\": \"SP500_ret\", \"type\": \"scatter\", \"x\": [\"2020-06-01\", \"2020-07-01\", \"2020-08-01\", \"2020-09-01\", \"2020-10-01\"], \"y\": [0.018388396357494674, 0.055101321441235696, 0.07006466708724646, -0.039227970289931524, -0.02766578620279514]}],\n",
       "                        {\"template\": {\"data\": {\"bar\": [{\"error_x\": {\"color\": \"#2a3f5f\"}, \"error_y\": {\"color\": \"#2a3f5f\"}, \"marker\": {\"line\": {\"color\": \"#E5ECF6\", \"width\": 0.5}}, \"type\": \"bar\"}], \"barpolar\": [{\"marker\": {\"line\": {\"color\": \"#E5ECF6\", \"width\": 0.5}}, \"type\": \"barpolar\"}], \"carpet\": [{\"aaxis\": {\"endlinecolor\": \"#2a3f5f\", \"gridcolor\": \"white\", \"linecolor\": \"white\", \"minorgridcolor\": \"white\", \"startlinecolor\": \"#2a3f5f\"}, \"baxis\": {\"endlinecolor\": \"#2a3f5f\", \"gridcolor\": \"white\", \"linecolor\": \"white\", \"minorgridcolor\": \"white\", \"startlinecolor\": \"#2a3f5f\"}, \"type\": \"carpet\"}], \"choropleth\": [{\"colorbar\": {\"outlinewidth\": 0, \"ticks\": \"\"}, \"type\": \"choropleth\"}], \"contour\": [{\"colorbar\": {\"outlinewidth\": 0, \"ticks\": \"\"}, \"colorscale\": [[0.0, \"#0d0887\"], [0.1111111111111111, \"#46039f\"], [0.2222222222222222, \"#7201a8\"], [0.3333333333333333, \"#9c179e\"], [0.4444444444444444, \"#bd3786\"], [0.5555555555555556, \"#d8576b\"], [0.6666666666666666, \"#ed7953\"], [0.7777777777777778, \"#fb9f3a\"], [0.8888888888888888, \"#fdca26\"], [1.0, \"#f0f921\"]], \"type\": \"contour\"}], \"contourcarpet\": [{\"colorbar\": {\"outlinewidth\": 0, \"ticks\": \"\"}, \"type\": \"contourcarpet\"}], \"heatmap\": [{\"colorbar\": {\"outlinewidth\": 0, \"ticks\": \"\"}, \"colorscale\": [[0.0, \"#0d0887\"], [0.1111111111111111, \"#46039f\"], [0.2222222222222222, \"#7201a8\"], [0.3333333333333333, \"#9c179e\"], [0.4444444444444444, \"#bd3786\"], [0.5555555555555556, \"#d8576b\"], [0.6666666666666666, \"#ed7953\"], [0.7777777777777778, \"#fb9f3a\"], [0.8888888888888888, \"#fdca26\"], [1.0, \"#f0f921\"]], \"type\": \"heatmap\"}], \"heatmapgl\": [{\"colorbar\": {\"outlinewidth\": 0, \"ticks\": \"\"}, \"colorscale\": [[0.0, \"#0d0887\"], [0.1111111111111111, \"#46039f\"], [0.2222222222222222, \"#7201a8\"], [0.3333333333333333, \"#9c179e\"], [0.4444444444444444, \"#bd3786\"], [0.5555555555555556, \"#d8576b\"], [0.6666666666666666, \"#ed7953\"], [0.7777777777777778, \"#fb9f3a\"], [0.8888888888888888, \"#fdca26\"], [1.0, \"#f0f921\"]], \"type\": \"heatmapgl\"}], \"histogram\": [{\"marker\": {\"colorbar\": {\"outlinewidth\": 0, \"ticks\": \"\"}}, \"type\": \"histogram\"}], \"histogram2d\": [{\"colorbar\": {\"outlinewidth\": 0, \"ticks\": \"\"}, \"colorscale\": [[0.0, \"#0d0887\"], [0.1111111111111111, \"#46039f\"], [0.2222222222222222, \"#7201a8\"], [0.3333333333333333, \"#9c179e\"], [0.4444444444444444, \"#bd3786\"], [0.5555555555555556, \"#d8576b\"], [0.6666666666666666, \"#ed7953\"], [0.7777777777777778, \"#fb9f3a\"], [0.8888888888888888, \"#fdca26\"], [1.0, \"#f0f921\"]], \"type\": \"histogram2d\"}], \"histogram2dcontour\": [{\"colorbar\": {\"outlinewidth\": 0, \"ticks\": \"\"}, \"colorscale\": [[0.0, \"#0d0887\"], [0.1111111111111111, \"#46039f\"], [0.2222222222222222, \"#7201a8\"], [0.3333333333333333, \"#9c179e\"], [0.4444444444444444, \"#bd3786\"], [0.5555555555555556, \"#d8576b\"], [0.6666666666666666, \"#ed7953\"], [0.7777777777777778, \"#fb9f3a\"], [0.8888888888888888, \"#fdca26\"], [1.0, \"#f0f921\"]], \"type\": \"histogram2dcontour\"}], \"mesh3d\": [{\"colorbar\": {\"outlinewidth\": 0, \"ticks\": \"\"}, \"type\": \"mesh3d\"}], \"parcoords\": [{\"line\": {\"colorbar\": {\"outlinewidth\": 0, \"ticks\": \"\"}}, \"type\": \"parcoords\"}], \"pie\": [{\"automargin\": true, \"type\": \"pie\"}], \"scatter\": [{\"marker\": {\"colorbar\": {\"outlinewidth\": 0, \"ticks\": \"\"}}, \"type\": \"scatter\"}], \"scatter3d\": [{\"line\": {\"colorbar\": {\"outlinewidth\": 0, \"ticks\": \"\"}}, \"marker\": {\"colorbar\": {\"outlinewidth\": 0, \"ticks\": \"\"}}, \"type\": \"scatter3d\"}], \"scattercarpet\": [{\"marker\": {\"colorbar\": {\"outlinewidth\": 0, \"ticks\": \"\"}}, \"type\": \"scattercarpet\"}], \"scattergeo\": [{\"marker\": {\"colorbar\": {\"outlinewidth\": 0, \"ticks\": \"\"}}, \"type\": \"scattergeo\"}], \"scattergl\": [{\"marker\": {\"colorbar\": {\"outlinewidth\": 0, \"ticks\": \"\"}}, \"type\": \"scattergl\"}], \"scattermapbox\": [{\"marker\": {\"colorbar\": {\"outlinewidth\": 0, \"ticks\": \"\"}}, \"type\": \"scattermapbox\"}], \"scatterpolar\": [{\"marker\": {\"colorbar\": {\"outlinewidth\": 0, \"ticks\": \"\"}}, \"type\": \"scatterpolar\"}], \"scatterpolargl\": [{\"marker\": {\"colorbar\": {\"outlinewidth\": 0, \"ticks\": \"\"}}, \"type\": \"scatterpolargl\"}], \"scatterternary\": [{\"marker\": {\"colorbar\": {\"outlinewidth\": 0, \"ticks\": \"\"}}, \"type\": \"scatterternary\"}], \"surface\": [{\"colorbar\": {\"outlinewidth\": 0, \"ticks\": \"\"}, \"colorscale\": [[0.0, \"#0d0887\"], [0.1111111111111111, \"#46039f\"], [0.2222222222222222, \"#7201a8\"], [0.3333333333333333, \"#9c179e\"], [0.4444444444444444, \"#bd3786\"], [0.5555555555555556, \"#d8576b\"], [0.6666666666666666, \"#ed7953\"], [0.7777777777777778, \"#fb9f3a\"], [0.8888888888888888, \"#fdca26\"], [1.0, \"#f0f921\"]], \"type\": \"surface\"}], \"table\": [{\"cells\": {\"fill\": {\"color\": \"#EBF0F8\"}, \"line\": {\"color\": \"white\"}}, \"header\": {\"fill\": {\"color\": \"#C8D4E3\"}, \"line\": {\"color\": \"white\"}}, \"type\": \"table\"}]}, \"layout\": {\"annotationdefaults\": {\"arrowcolor\": \"#2a3f5f\", \"arrowhead\": 0, \"arrowwidth\": 1}, \"coloraxis\": {\"colorbar\": {\"outlinewidth\": 0, \"ticks\": \"\"}}, \"colorscale\": {\"diverging\": [[0, \"#8e0152\"], [0.1, \"#c51b7d\"], [0.2, \"#de77ae\"], [0.3, \"#f1b6da\"], [0.4, \"#fde0ef\"], [0.5, \"#f7f7f7\"], [0.6, \"#e6f5d0\"], [0.7, \"#b8e186\"], [0.8, \"#7fbc41\"], [0.9, \"#4d9221\"], [1, \"#276419\"]], \"sequential\": [[0.0, \"#0d0887\"], [0.1111111111111111, \"#46039f\"], [0.2222222222222222, \"#7201a8\"], [0.3333333333333333, \"#9c179e\"], [0.4444444444444444, \"#bd3786\"], [0.5555555555555556, \"#d8576b\"], [0.6666666666666666, \"#ed7953\"], [0.7777777777777778, \"#fb9f3a\"], [0.8888888888888888, \"#fdca26\"], [1.0, \"#f0f921\"]], \"sequentialminus\": [[0.0, \"#0d0887\"], [0.1111111111111111, \"#46039f\"], [0.2222222222222222, \"#7201a8\"], [0.3333333333333333, \"#9c179e\"], [0.4444444444444444, \"#bd3786\"], [0.5555555555555556, \"#d8576b\"], [0.6666666666666666, \"#ed7953\"], [0.7777777777777778, \"#fb9f3a\"], [0.8888888888888888, \"#fdca26\"], [1.0, \"#f0f921\"]]}, \"colorway\": [\"#636efa\", \"#EF553B\", \"#00cc96\", \"#ab63fa\", \"#FFA15A\", \"#19d3f3\", \"#FF6692\", \"#B6E880\", \"#FF97FF\", \"#FECB52\"], \"font\": {\"color\": \"#2a3f5f\"}, \"geo\": {\"bgcolor\": \"white\", \"lakecolor\": \"white\", \"landcolor\": \"#E5ECF6\", \"showlakes\": true, \"showland\": true, \"subunitcolor\": \"white\"}, \"hoverlabel\": {\"align\": \"left\"}, \"hovermode\": \"closest\", \"mapbox\": {\"style\": \"light\"}, \"paper_bgcolor\": \"white\", \"plot_bgcolor\": \"#E5ECF6\", \"polar\": {\"angularaxis\": {\"gridcolor\": \"white\", \"linecolor\": \"white\", \"ticks\": \"\"}, \"bgcolor\": \"#E5ECF6\", \"radialaxis\": {\"gridcolor\": \"white\", \"linecolor\": \"white\", \"ticks\": \"\"}}, \"scene\": {\"xaxis\": {\"backgroundcolor\": \"#E5ECF6\", \"gridcolor\": \"white\", \"gridwidth\": 2, \"linecolor\": \"white\", \"showbackground\": true, \"ticks\": \"\", \"zerolinecolor\": \"white\"}, \"yaxis\": {\"backgroundcolor\": \"#E5ECF6\", \"gridcolor\": \"white\", \"gridwidth\": 2, \"linecolor\": \"white\", \"showbackground\": true, \"ticks\": \"\", \"zerolinecolor\": \"white\"}, \"zaxis\": {\"backgroundcolor\": \"#E5ECF6\", \"gridcolor\": \"white\", \"gridwidth\": 2, \"linecolor\": \"white\", \"showbackground\": true, \"ticks\": \"\", \"zerolinecolor\": \"white\"}}, \"shapedefaults\": {\"line\": {\"color\": \"#2a3f5f\"}}, \"ternary\": {\"aaxis\": {\"gridcolor\": \"white\", \"linecolor\": \"white\", \"ticks\": \"\"}, \"baxis\": {\"gridcolor\": \"white\", \"linecolor\": \"white\", \"ticks\": \"\"}, \"bgcolor\": \"#E5ECF6\", \"caxis\": {\"gridcolor\": \"white\", \"linecolor\": \"white\", \"ticks\": \"\"}}, \"title\": {\"x\": 0.05}, \"xaxis\": {\"automargin\": true, \"gridcolor\": \"white\", \"linecolor\": \"white\", \"ticks\": \"\", \"title\": {\"standoff\": 15}, \"zerolinecolor\": \"white\", \"zerolinewidth\": 2}, \"yaxis\": {\"automargin\": true, \"gridcolor\": \"white\", \"linecolor\": \"white\", \"ticks\": \"\", \"title\": {\"standoff\": 15}, \"zerolinecolor\": \"white\", \"zerolinewidth\": 2}}}},\n",
       "                        {\"responsive\": true}\n",
       "                    ).then(function(){\n",
       "                            \n",
       "var gd = document.getElementById('c1e6e84f-bc3a-469f-9472-21ef6d10dd5a');\n",
       "var x = new MutationObserver(function (mutations, observer) {{\n",
       "        var display = window.getComputedStyle(gd).display;\n",
       "        if (!display || display === 'none') {{\n",
       "            console.log([gd, 'removed!']);\n",
       "            Plotly.purge(gd);\n",
       "            observer.disconnect();\n",
       "        }}\n",
       "}});\n",
       "\n",
       "// Listen for the removal of the full notebook cells\n",
       "var notebookContainer = gd.closest('#notebook-container');\n",
       "if (notebookContainer) {{\n",
       "    x.observe(notebookContainer, {childList: true});\n",
       "}}\n",
       "\n",
       "// Listen for the clearing of the current output cell\n",
       "var outputEl = gd.closest('.output');\n",
       "if (outputEl) {{\n",
       "    x.observe(outputEl, {childList: true});\n",
       "}}\n",
       "\n",
       "                        })\n",
       "                };\n",
       "                });\n",
       "            </script>\n",
       "        </div>"
      ]
     },
     "metadata": {},
     "output_type": "display_data"
    }
   ],
   "source": [
    "fig = go.Figure()\n",
    "fig.add_trace(go.Scatter(x=df.dateInt, y=df['portfolio_ret'],\n",
    "                    mode='lines+markers',\n",
    "                    name='Our_ret'))\n",
    "fig.add_trace(go.Scatter(x=sp.Date, y=sp['sp_ret'],\n",
    "                    mode='lines+markers',\n",
    "                    name='SP500_ret'))\n",
    "\n",
    "fig.show()"
   ]
  },
  {
   "cell_type": "code",
   "execution_count": 84,
   "metadata": {},
   "outputs": [],
   "source": [
    "pf_ret =df['portfolio_ret'].values\n",
    "sp_ret = sp['sp_ret'].values"
   ]
  },
  {
   "cell_type": "code",
   "execution_count": 85,
   "metadata": {},
   "outputs": [],
   "source": [
    "from scipy.stats import norm"
   ]
  },
  {
   "cell_type": "code",
   "execution_count": 110,
   "metadata": {},
   "outputs": [],
   "source": [
    "import math\n",
    "def get_mdd(arr_v):\n",
    "    \"\"\"\n",
    "    MDD(Maximum Draw-Down)\n",
    "    :return: (mdd rate)\n",
    "    \"\"\"\n",
    "#     arr_v = np.array(x)\n",
    "    peak_lower = np.argmax(np.maximum.accumulate(arr_v) - arr_v)\n",
    "    peak_upper = np.argmax(arr_v[:peak_lower])\n",
    "    return (arr_v[peak_lower] - arr_v[peak_upper]) / arr_v[peak_upper]\n",
    "\n",
    "# 출처 : http://blog.quantylab.com/mdd.html"
   ]
  },
  {
   "cell_type": "code",
   "execution_count": 105,
   "metadata": {},
   "outputs": [],
   "source": [
    "Annual_return = []\n",
    "Annual_variance = []\n",
    "sharpe_ratio = []\n",
    "VaR_95 = []\n",
    "MDD = []\n",
    "\n",
    "for data in [pf_ret, sp_ret]:\n",
    "    mean = data.mean()\n",
    "    std = data.std()\n",
    "        \n",
    "    Annual_return.append(mean * 12)\n",
    "    Annual_variance.append(std* math.sqrt(12))\n",
    "    sharpe_ratio.append(mean/std)\n",
    "    VaR_95.append(norm.ppf(1-0.9, mean, std))\n",
    "    MDD.append(get_mdd(data))\n",
    "    "
   ]
  },
  {
   "cell_type": "code",
   "execution_count": 106,
   "metadata": {},
   "outputs": [],
   "source": [
    "result = pd.DataFrame(index = ['portfolio', 'SP500'])"
   ]
  },
  {
   "cell_type": "code",
   "execution_count": 107,
   "metadata": {},
   "outputs": [],
   "source": [
    "result['Annual_return'] = Annual_return\n",
    "result['Annual_variance'] = Annual_variance\n",
    "result['sharpe'] = sharpe_ratio\n",
    "result['VaR_95'] = VaR_95\n",
    "result['MDD'] = MDD"
   ]
  },
  {
   "cell_type": "markdown",
   "metadata": {},
   "source": [
    "## Statistic result"
   ]
  },
  {
   "cell_type": "code",
   "execution_count": 108,
   "metadata": {},
   "outputs": [
    {
     "data": {
      "text/html": [
       "<div>\n",
       "<style scoped>\n",
       "    .dataframe tbody tr th:only-of-type {\n",
       "        vertical-align: middle;\n",
       "    }\n",
       "\n",
       "    .dataframe tbody tr th {\n",
       "        vertical-align: top;\n",
       "    }\n",
       "\n",
       "    .dataframe thead th {\n",
       "        text-align: right;\n",
       "    }\n",
       "</style>\n",
       "<table border=\"1\" class=\"dataframe\">\n",
       "  <thead>\n",
       "    <tr style=\"text-align: right;\">\n",
       "      <th></th>\n",
       "      <th>Annual_return</th>\n",
       "      <th>Annual_variance</th>\n",
       "      <th>sharpe</th>\n",
       "      <th>VaR_95</th>\n",
       "      <th>MDD</th>\n",
       "    </tr>\n",
       "  </thead>\n",
       "  <tbody>\n",
       "    <tr>\n",
       "      <th>portfolio</th>\n",
       "      <td>0.826195</td>\n",
       "      <td>0.259831</td>\n",
       "      <td>0.917913</td>\n",
       "      <td>-0.027275</td>\n",
       "      <td>-1.427194</td>\n",
       "    </tr>\n",
       "    <tr>\n",
       "      <th>SP500</th>\n",
       "      <td>0.183986</td>\n",
       "      <td>0.150297</td>\n",
       "      <td>0.353380</td>\n",
       "      <td>-0.040271</td>\n",
       "      <td>-1.559882</td>\n",
       "    </tr>\n",
       "  </tbody>\n",
       "</table>\n",
       "</div>"
      ],
      "text/plain": [
       "           Annual_return  Annual_variance    sharpe    VaR_95       MDD\n",
       "portfolio       0.826195         0.259831  0.917913 -0.027275 -1.427194\n",
       "SP500           0.183986         0.150297  0.353380 -0.040271 -1.559882"
      ]
     },
     "execution_count": 108,
     "metadata": {},
     "output_type": "execute_result"
    }
   ],
   "source": [
    "result"
   ]
  },
  {
   "cell_type": "code",
   "execution_count": null,
   "metadata": {},
   "outputs": [],
   "source": []
  }
 ],
 "metadata": {
  "colab": {
   "authorship_tag": "ABX9TyNq3QcIxi9siYzpylPGIwSD",
   "include_colab_link": true,
   "mount_file_id": "1aK7AZWXURQzYo2IjSf2QzzvHQehkS45O",
   "name": "MV-model.ipynb",
   "provenance": []
  },
  "kernelspec": {
   "display_name": "Python 3",
   "language": "python",
   "name": "python3"
  },
  "language_info": {
   "codemirror_mode": {
    "name": "ipython",
    "version": 3
   },
   "file_extension": ".py",
   "mimetype": "text/x-python",
   "name": "python",
   "nbconvert_exporter": "python",
   "pygments_lexer": "ipython3",
   "version": "3.7.4"
  }
 },
 "nbformat": 4,
 "nbformat_minor": 1
}
