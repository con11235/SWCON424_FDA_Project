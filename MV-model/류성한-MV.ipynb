{
 "cells": [
  {
   "cell_type": "code",
   "execution_count": 40,
   "metadata": {},
   "outputs": [],
   "source": [
    "import pandas_datareader.data as web\n",
    "import numpy as np\n",
    "import pandas as pd\n",
    "import matplotlib.pyplot as plt\n",
    "%matplotlib inline"
   ]
  },
  {
   "cell_type": "code",
   "execution_count": 41,
   "metadata": {},
   "outputs": [
    {
     "data": {
      "text/html": [
       "<div>\n",
       "<style scoped>\n",
       "    .dataframe tbody tr th:only-of-type {\n",
       "        vertical-align: middle;\n",
       "    }\n",
       "\n",
       "    .dataframe tbody tr th {\n",
       "        vertical-align: top;\n",
       "    }\n",
       "\n",
       "    .dataframe thead th {\n",
       "        text-align: right;\n",
       "    }\n",
       "</style>\n",
       "<table border=\"1\" class=\"dataframe\">\n",
       "  <thead>\n",
       "    <tr style=\"text-align: right;\">\n",
       "      <th>Symbols</th>\n",
       "      <th>AAPL</th>\n",
       "      <th>NFLX</th>\n",
       "      <th>AMZN</th>\n",
       "      <th>GOOGL</th>\n",
       "    </tr>\n",
       "    <tr>\n",
       "      <th>Date</th>\n",
       "      <th></th>\n",
       "      <th></th>\n",
       "      <th></th>\n",
       "      <th></th>\n",
       "    </tr>\n",
       "  </thead>\n",
       "  <tbody>\n",
       "    <tr>\n",
       "      <th>2016-01-04</th>\n",
       "      <td>0.000855</td>\n",
       "      <td>-0.038643</td>\n",
       "      <td>-0.057554</td>\n",
       "      <td>-0.023869</td>\n",
       "    </tr>\n",
       "    <tr>\n",
       "      <th>2016-01-05</th>\n",
       "      <td>-0.025059</td>\n",
       "      <td>-0.020917</td>\n",
       "      <td>-0.005024</td>\n",
       "      <td>0.002752</td>\n",
       "    </tr>\n",
       "    <tr>\n",
       "      <th>2016-01-06</th>\n",
       "      <td>-0.019570</td>\n",
       "      <td>0.093071</td>\n",
       "      <td>-0.001799</td>\n",
       "      <td>-0.002889</td>\n",
       "    </tr>\n",
       "    <tr>\n",
       "      <th>2016-01-07</th>\n",
       "      <td>-0.042205</td>\n",
       "      <td>-0.026513</td>\n",
       "      <td>-0.039058</td>\n",
       "      <td>-0.024140</td>\n",
       "    </tr>\n",
       "    <tr>\n",
       "      <th>2016-01-08</th>\n",
       "      <td>0.005288</td>\n",
       "      <td>-0.027671</td>\n",
       "      <td>-0.001464</td>\n",
       "      <td>-0.013617</td>\n",
       "    </tr>\n",
       "  </tbody>\n",
       "</table>\n",
       "</div>"
      ],
      "text/plain": [
       "Symbols         AAPL      NFLX      AMZN     GOOGL\n",
       "Date                                              \n",
       "2016-01-04  0.000855 -0.038643 -0.057554 -0.023869\n",
       "2016-01-05 -0.025059 -0.020917 -0.005024  0.002752\n",
       "2016-01-06 -0.019570  0.093071 -0.001799 -0.002889\n",
       "2016-01-07 -0.042205 -0.026513 -0.039058 -0.024140\n",
       "2016-01-08  0.005288 -0.027671 -0.001464 -0.013617"
      ]
     },
     "execution_count": 41,
     "metadata": {},
     "output_type": "execute_result"
    }
   ],
   "source": [
    "asset_list = ['AAPL', 'NFLX','AMZN','GOOGL']\n",
    "\n",
    "ind5 = web.get_data_yahoo(asset_list, start='2016-01-01', end='2019-01-01')['Adj Close']\n",
    "\n",
    "ind5_ret = ind5.pct_change().dropna()\n",
    "ind5_ret.head()\n"
   ]
  },
  {
   "cell_type": "code",
   "execution_count": 42,
   "metadata": {},
   "outputs": [
    {
     "data": {
      "text/plain": [
       "(['AAPL', 'NFLX', 'AMZN', 'GOOGL'], 4)"
      ]
     },
     "execution_count": 42,
     "metadata": {},
     "output_type": "execute_result"
    }
   ],
   "source": [
    "asset_num = len(asset_list)\n",
    "asset_list, asset_num"
   ]
  },
  {
   "cell_type": "code",
   "execution_count": 43,
   "metadata": {},
   "outputs": [
    {
     "data": {
      "text/plain": [
       "Symbols\n",
       "AAPL     0.541938\n",
       "NFLX     1.095881\n",
       "AMZN     0.930050\n",
       "GOOGL    0.367117\n",
       "dtype: float64"
      ]
     },
     "metadata": {},
     "output_type": "display_data"
    },
    {
     "data": {
      "text/html": [
       "<div>\n",
       "<style scoped>\n",
       "    .dataframe tbody tr th:only-of-type {\n",
       "        vertical-align: middle;\n",
       "    }\n",
       "\n",
       "    .dataframe tbody tr th {\n",
       "        vertical-align: top;\n",
       "    }\n",
       "\n",
       "    .dataframe thead th {\n",
       "        text-align: right;\n",
       "    }\n",
       "</style>\n",
       "<table border=\"1\" class=\"dataframe\">\n",
       "  <thead>\n",
       "    <tr style=\"text-align: right;\">\n",
       "      <th>Symbols</th>\n",
       "      <th>AAPL</th>\n",
       "      <th>NFLX</th>\n",
       "      <th>AMZN</th>\n",
       "      <th>GOOGL</th>\n",
       "    </tr>\n",
       "    <tr>\n",
       "      <th>Symbols</th>\n",
       "      <th></th>\n",
       "      <th></th>\n",
       "      <th></th>\n",
       "      <th></th>\n",
       "    </tr>\n",
       "  </thead>\n",
       "  <tbody>\n",
       "    <tr>\n",
       "      <th>AAPL</th>\n",
       "      <td>0.167769</td>\n",
       "      <td>0.122269</td>\n",
       "      <td>0.111574</td>\n",
       "      <td>0.090208</td>\n",
       "    </tr>\n",
       "    <tr>\n",
       "      <th>NFLX</th>\n",
       "      <td>0.122269</td>\n",
       "      <td>0.490705</td>\n",
       "      <td>0.195084</td>\n",
       "      <td>0.142356</td>\n",
       "    </tr>\n",
       "    <tr>\n",
       "      <th>AMZN</th>\n",
       "      <td>0.111574</td>\n",
       "      <td>0.195084</td>\n",
       "      <td>0.261696</td>\n",
       "      <td>0.132201</td>\n",
       "    </tr>\n",
       "    <tr>\n",
       "      <th>GOOGL</th>\n",
       "      <td>0.090208</td>\n",
       "      <td>0.142356</td>\n",
       "      <td>0.132201</td>\n",
       "      <td>0.142960</td>\n",
       "    </tr>\n",
       "  </tbody>\n",
       "</table>\n",
       "</div>"
      ],
      "text/plain": [
       "Symbols      AAPL      NFLX      AMZN     GOOGL\n",
       "Symbols                                        \n",
       "AAPL     0.167769  0.122269  0.111574  0.090208\n",
       "NFLX     0.122269  0.490705  0.195084  0.142356\n",
       "AMZN     0.111574  0.195084  0.261696  0.132201\n",
       "GOOGL    0.090208  0.142356  0.132201  0.142960"
      ]
     },
     "metadata": {},
     "output_type": "display_data"
    }
   ],
   "source": [
    "mu = ind5_ret.mean() * ind5.shape[0] ## 1년 단위로 mu를 계산하는가?\n",
    "sigma = ind5_ret.cov() * ind5.shape[0] \n",
    "\n",
    "display(mu)\n",
    "display(sigma)"
   ]
  },
  {
   "cell_type": "markdown",
   "metadata": {},
   "source": [
    "#### Cvxpy"
   ]
  },
  {
   "cell_type": "code",
   "execution_count": 44,
   "metadata": {},
   "outputs": [],
   "source": [
    "import cvxpy as cp"
   ]
  },
  {
   "cell_type": "code",
   "execution_count": 45,
   "metadata": {},
   "outputs": [
    {
     "data": {
      "text/plain": [
       "array([4.04808802e-01, 2.49000184e-09, 1.37837926e-08, 5.95191182e-01])"
      ]
     },
     "execution_count": 45,
     "metadata": {},
     "output_type": "execute_result"
    }
   ],
   "source": [
    "### GMV 포트폴리오 찾기 \n",
    "gmv_ns2 = cp.Variable(asset_num)\n",
    "objective = cp.Minimize(cp.quad_form(gmv_ns2, sigma))\n",
    "constraints = [cp.sum(gmv_ns2) == 1, gmv_ns2 >= 0]\n",
    "problem = cp.Problem(objective, constraints)\n",
    "problem.solve(solver=cp.ECOS)\n",
    "gmv_ns2 = gmv_ns2.value\n",
    "gmv_ns2"
   ]
  },
  {
   "cell_type": "code",
   "execution_count": 46,
   "metadata": {},
   "outputs": [
    {
     "data": {
      "text/plain": [
       "(0.4378860811114345, 0.3487199944239129)"
      ]
     },
     "execution_count": 46,
     "metadata": {},
     "output_type": "execute_result"
    }
   ],
   "source": [
    "# GMV return and risk (no short)\n",
    "np.dot(mu.T, gmv_ns2), np.sqrt(np.dot(gmv_ns2.T, np.dot(sigma, gmv_ns2)))"
   ]
  },
  {
   "cell_type": "markdown",
   "metadata": {},
   "source": [
    "## MV  : 분산 최소화, 특정 수익률 이상 얻기 \n",
    "###  Portfolios (no-shorting)"
   ]
  },
  {
   "cell_type": "code",
   "execution_count": 47,
   "metadata": {},
   "outputs": [
    {
     "data": {
      "text/plain": [
       "0.46"
      ]
     },
     "execution_count": 47,
     "metadata": {},
     "output_type": "execute_result"
    }
   ],
   "source": [
    "# GMV수익률보다 2퍼센트 더 높은 수익률을 원한다!\n",
    "ret_gmv = np.dot(mu.T, gmv_ns2)\n",
    "ret_target = np.round(ret_gmv,2) + 0.02 \n",
    "ret_target"
   ]
  },
  {
   "cell_type": "code",
   "execution_count": 48,
   "metadata": {},
   "outputs": [
    {
     "data": {
      "text/plain": [
       "array([4.14062609e-01, 3.41850321e-09, 3.64096374e-02, 5.49527750e-01])"
      ]
     },
     "execution_count": 48,
     "metadata": {},
     "output_type": "execute_result"
    }
   ],
   "source": [
    "w = cp.Variable(asset_num)\n",
    "objective = cp.Minimize(cp.quad_form(w, sigma)) # 목적함수 : 분산 최소화 \n",
    "constraints = [cp.sum(w) == 1, # weight합은 1\n",
    "               w >= 0,  # weight 모두 0보다 크다 (공매도 ㄴㄴ)\n",
    "               w @ mu >= ret_target] ## @는 행렬 연산, mu가 ret_target보다 높게끔 제약조건 추가 \n",
    "problem = cp.Problem(objective, constraints)\n",
    "problem.solve(solver=cp.ECOS)\n",
    "w = w.value\n",
    "w"
   ]
  },
  {
   "cell_type": "code",
   "execution_count": 49,
   "metadata": {},
   "outputs": [
    {
     "data": {
      "text/plain": [
       "(0.4600000013387703, 0.3492676493228597)"
      ]
     },
     "execution_count": 49,
     "metadata": {},
     "output_type": "execute_result"
    }
   ],
   "source": [
    "# 최종적으로 포트폴리오 기대 수익률, 표준편차 \n",
    "np.dot(mu.T, w), np.sqrt(np.dot(w.T, np.dot(sigma, w)))"
   ]
  },
  {
   "cell_type": "code",
   "execution_count": null,
   "metadata": {},
   "outputs": [],
   "source": []
  },
  {
   "cell_type": "markdown",
   "metadata": {},
   "source": [
    "## back test"
   ]
  },
  {
   "cell_type": "code",
   "execution_count": 50,
   "metadata": {},
   "outputs": [
    {
     "data": {
      "text/html": [
       "<div>\n",
       "<style scoped>\n",
       "    .dataframe tbody tr th:only-of-type {\n",
       "        vertical-align: middle;\n",
       "    }\n",
       "\n",
       "    .dataframe tbody tr th {\n",
       "        vertical-align: top;\n",
       "    }\n",
       "\n",
       "    .dataframe thead th {\n",
       "        text-align: right;\n",
       "    }\n",
       "</style>\n",
       "<table border=\"1\" class=\"dataframe\">\n",
       "  <thead>\n",
       "    <tr style=\"text-align: right;\">\n",
       "      <th>Symbols</th>\n",
       "      <th>AAPL</th>\n",
       "      <th>NFLX</th>\n",
       "      <th>AMZN</th>\n",
       "      <th>GOOGL</th>\n",
       "    </tr>\n",
       "    <tr>\n",
       "      <th>Date</th>\n",
       "      <th></th>\n",
       "      <th></th>\n",
       "      <th></th>\n",
       "      <th></th>\n",
       "    </tr>\n",
       "  </thead>\n",
       "  <tbody>\n",
       "    <tr>\n",
       "      <th>2019-01-02</th>\n",
       "      <td>0.001141</td>\n",
       "      <td>0.000000</td>\n",
       "      <td>0.024741</td>\n",
       "      <td>0.009302</td>\n",
       "    </tr>\n",
       "    <tr>\n",
       "      <th>2019-01-03</th>\n",
       "      <td>-0.099607</td>\n",
       "      <td>0.013226</td>\n",
       "      <td>-0.025242</td>\n",
       "      <td>-0.027696</td>\n",
       "    </tr>\n",
       "    <tr>\n",
       "      <th>2019-01-04</th>\n",
       "      <td>0.042689</td>\n",
       "      <td>0.097234</td>\n",
       "      <td>0.050064</td>\n",
       "      <td>0.051294</td>\n",
       "    </tr>\n",
       "    <tr>\n",
       "      <th>2019-01-07</th>\n",
       "      <td>-0.002226</td>\n",
       "      <td>0.059717</td>\n",
       "      <td>0.034353</td>\n",
       "      <td>-0.001994</td>\n",
       "    </tr>\n",
       "    <tr>\n",
       "      <th>2019-01-08</th>\n",
       "      <td>0.019063</td>\n",
       "      <td>0.015634</td>\n",
       "      <td>0.016612</td>\n",
       "      <td>0.008783</td>\n",
       "    </tr>\n",
       "  </tbody>\n",
       "</table>\n",
       "</div>"
      ],
      "text/plain": [
       "Symbols         AAPL      NFLX      AMZN     GOOGL\n",
       "Date                                              \n",
       "2019-01-02  0.001141  0.000000  0.024741  0.009302\n",
       "2019-01-03 -0.099607  0.013226 -0.025242 -0.027696\n",
       "2019-01-04  0.042689  0.097234  0.050064  0.051294\n",
       "2019-01-07 -0.002226  0.059717  0.034353 -0.001994\n",
       "2019-01-08  0.019063  0.015634  0.016612  0.008783"
      ]
     },
     "execution_count": 50,
     "metadata": {},
     "output_type": "execute_result"
    }
   ],
   "source": [
    "asset_list = ['AAPL', 'NFLX','AMZN','GOOGL']\n",
    "\n",
    "future = web.get_data_yahoo(asset_list, start='2019-01-01', end='2020-01-01')['Adj Close']\n",
    "\n",
    "future_ret = future.pct_change().dropna()\n",
    "future_ret.head()"
   ]
  },
  {
   "cell_type": "code",
   "execution_count": 51,
   "metadata": {},
   "outputs": [],
   "source": [
    "future_mu = future_ret.mean() * future.shape[0] \n",
    "future_sigma = ind5_ret.cov() * future.shape[0]\n"
   ]
  },
  {
   "cell_type": "code",
   "execution_count": 52,
   "metadata": {},
   "outputs": [
    {
     "name": "stdout",
     "output_type": "stream",
     "text": [
      "# 같은 비율로 투자했을 때 포트폴리오 평가 \n"
     ]
    },
    {
     "data": {
      "text/plain": [
       "0.4400812636350133"
      ]
     },
     "metadata": {},
     "output_type": "display_data"
    },
    {
     "data": {
      "text/plain": [
       "0.04087806144168156"
      ]
     },
     "metadata": {},
     "output_type": "display_data"
    },
    {
     "data": {
      "text/plain": [
       "0.04087806144168156"
      ]
     },
     "metadata": {},
     "output_type": "display_data"
    },
    {
     "data": {
      "text/plain": [
       "0.20218323729152612"
      ]
     },
     "metadata": {},
     "output_type": "display_data"
    },
    {
     "name": "stdout",
     "output_type": "stream",
     "text": [
      "# Monthly mean and volatility\n"
     ]
    },
    {
     "data": {
      "text/plain": [
       "0.03667343863625111"
      ]
     },
     "metadata": {},
     "output_type": "display_data"
    },
    {
     "data": {
      "text/plain": [
       "0.0583652732379463"
      ]
     },
     "metadata": {},
     "output_type": "display_data"
    }
   ],
   "source": [
    "print('# 같은 비율로 투자했을 때 포트폴리오 평가 ')\n",
    "# Portfolio mean, variance, and standard deviation\n",
    "pfo_mu = np.dot(future_mu, w)\n",
    "pfo_var = np.dot(np.dot(w.T, future_sigma), w)\n",
    "pfo_var2 = np.dot(w.T, np.dot(future_sigma, w))\n",
    "pfo_std = np.sqrt(pfo_var)\n",
    "\n",
    "\n",
    "display(pfo_mu, pfo_var, pfo_var2, pfo_std)\n",
    "\n",
    "\n",
    "print('# Monthly mean and volatility')\n",
    "display(pfo_mu / 12, pfo_std / np.sqrt(12))"
   ]
  },
  {
   "cell_type": "code",
   "execution_count": null,
   "metadata": {},
   "outputs": [],
   "source": []
  }
 ],
 "metadata": {
  "kernelspec": {
   "display_name": "Python 3",
   "language": "python",
   "name": "python3"
  },
  "language_info": {
   "codemirror_mode": {
    "name": "ipython",
    "version": 3
   },
   "file_extension": ".py",
   "mimetype": "text/x-python",
   "name": "python",
   "nbconvert_exporter": "python",
   "pygments_lexer": "ipython3",
   "version": "3.7.4"
  }
 },
 "nbformat": 4,
 "nbformat_minor": 2
}
