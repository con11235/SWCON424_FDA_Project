{
 "cells": [
  {
   "cell_type": "code",
   "execution_count": 1,
   "metadata": {
    "_cell_guid": "b1076dfc-b9ad-4769-8c92-a6c4dae69d19",
    "_uuid": "8f2839f25d086af736a60e9eeb907d3b93b6e0e5",
    "execution": {
     "iopub.execute_input": "2020-12-11T14:14:59.169617Z",
     "iopub.status.busy": "2020-12-11T14:14:59.168972Z",
     "iopub.status.idle": "2020-12-11T14:14:59.798021Z",
     "shell.execute_reply": "2020-12-11T14:14:59.797001Z"
    },
    "papermill": {
     "duration": 0.64014,
     "end_time": "2020-12-11T14:14:59.798140",
     "exception": false,
     "start_time": "2020-12-11T14:14:59.158000",
     "status": "completed"
    },
    "tags": []
   },
   "outputs": [],
   "source": [
    "import numpy as np # linear algebra\n",
    "import pandas as pd # data processing, CSV file I/O (e.g. pd.read_csv)\n",
    "from datetime import datetime, timedelta\n",
    "from dateutil.relativedelta import relativedelta\n",
    "import os, random\n",
    "\n",
    "import matplotlib.pyplot as plt\n",
    "\n",
    "from sklearn.preprocessing import MinMaxScaler"
   ]
  },
  {
   "cell_type": "code",
   "execution_count": 2,
   "metadata": {
    "_cell_guid": "79c7e3d0-c299-4dcb-8224-4455121ee9b0",
    "_uuid": "d629ff2d2480ee46fbb7e2d37f6b5fab8052498a",
    "execution": {
     "iopub.execute_input": "2020-12-11T14:14:59.818653Z",
     "iopub.status.busy": "2020-12-11T14:14:59.818067Z",
     "iopub.status.idle": "2020-12-11T14:15:03.139540Z",
     "shell.execute_reply": "2020-12-11T14:15:03.139001Z"
    },
    "papermill": {
     "duration": 3.335416,
     "end_time": "2020-12-11T14:15:03.139655",
     "exception": false,
     "start_time": "2020-12-11T14:14:59.804239",
     "status": "completed"
    },
    "tags": []
   },
   "outputs": [],
   "source": [
    "all_df = pd.read_csv('../input/fda-termproject/all_asset_2010_2020.csv')\n",
    "all_df['Date'] = all_df.Date.apply(lambda x: datetime.strptime(x, '%Y-%m-%d'))\n",
    "all_df.set_index('Date',inplace=True)"
   ]
  },
  {
   "cell_type": "code",
   "execution_count": 3,
   "metadata": {
    "execution": {
     "iopub.execute_input": "2020-12-11T14:15:03.155210Z",
     "iopub.status.busy": "2020-12-11T14:15:03.153517Z",
     "iopub.status.idle": "2020-12-11T14:15:03.155848Z",
     "shell.execute_reply": "2020-12-11T14:15:03.156247Z"
    },
    "papermill": {
     "duration": 0.011611,
     "end_time": "2020-12-11T14:15:03.156342",
     "exception": false,
     "start_time": "2020-12-11T14:15:03.144731",
     "status": "completed"
    },
    "tags": []
   },
   "outputs": [],
   "source": [
    "symbols = ['AAPL', 'MSFT', 'AMZN', 'FB']#, 'GOOGL', 'GOOG', 'TSLA', 'NVDA', 'CMCSA', 'ADBE']\n",
    "st ='2020-06-01'\n",
    "en = '2020-09-30'"
   ]
  },
  {
   "cell_type": "code",
   "execution_count": 4,
   "metadata": {
    "execution": {
     "iopub.execute_input": "2020-12-11T14:15:03.173942Z",
     "iopub.status.busy": "2020-12-11T14:15:03.172199Z",
     "iopub.status.idle": "2020-12-11T14:15:03.174588Z",
     "shell.execute_reply": "2020-12-11T14:15:03.175017Z"
    },
    "papermill": {
     "duration": 0.013799,
     "end_time": "2020-12-11T14:15:03.175112",
     "exception": false,
     "start_time": "2020-12-11T14:15:03.161313",
     "status": "completed"
    },
    "tags": []
   },
   "outputs": [],
   "source": [
    "def EWMA(df, asset):\n",
    "    '''\n",
    "    *input*\n",
    "    df : asset 전체 다 있는 전체 데이터 \n",
    "    asset : asset symbol 하나씩\n",
    "    \n",
    "    *output*\n",
    "    pred_price : 월 말일 price 값 딱 하나. \n",
    "                 만약2020-10-30까지가 우리가 사용할 데이터이면, 11월 30일의 price 예측 값. \n",
    "    pred_ret : 한 달 return\n",
    "               만약2020-10-30까지가 우리가 사용할 데이터이면, 1\n",
    "               1월 30일의 price 예측 값과 10월 30일의 실제 price를 이용해서 구한 return \n",
    "    '''\n",
    "    monthly_price = df[:en][asset].resample('M').mean() # 매달 평균 값\n",
    "    mean = monthly_price.iloc[-1]\n",
    "    \n",
    "    pred_price = monthly_price.ewm(0.9).mean().iloc[-1] # 파라미터 0.9는 대략 최근 10개 정도의 시계열 값을 평균낸 것에 근사함. 1/(1-0.9) 이런식으로 계산 가능.\n",
    "    pred_ret = (pred_price - mean)/mean\n",
    "    \n",
    "    return pred_price, pred_ret"
   ]
  },
  {
   "cell_type": "code",
   "execution_count": 5,
   "metadata": {
    "execution": {
     "iopub.execute_input": "2020-12-11T14:15:03.191045Z",
     "iopub.status.busy": "2020-12-11T14:15:03.190443Z",
     "iopub.status.idle": "2020-12-11T14:15:03.230601Z",
     "shell.execute_reply": "2020-12-11T14:15:03.230125Z"
    },
    "papermill": {
     "duration": 0.050611,
     "end_time": "2020-12-11T14:15:03.230683",
     "exception": false,
     "start_time": "2020-12-11T14:15:03.180072",
     "status": "completed"
    },
    "tags": []
   },
   "outputs": [],
   "source": [
    "mth_pred_asset = dict()\n",
    "for asset in symbols:\n",
    "    \n",
    "    mth_pred_asset[asset] = [EWMA(all_df, asset)]"
   ]
  },
  {
   "cell_type": "code",
   "execution_count": 6,
   "metadata": {
    "execution": {
     "iopub.execute_input": "2020-12-11T14:15:03.247422Z",
     "iopub.status.busy": "2020-12-11T14:15:03.246816Z",
     "iopub.status.idle": "2020-12-11T14:15:03.250414Z",
     "shell.execute_reply": "2020-12-11T14:15:03.250828Z"
    },
    "papermill": {
     "duration": 0.015108,
     "end_time": "2020-12-11T14:15:03.250921",
     "exception": false,
     "start_time": "2020-12-11T14:15:03.235813",
     "status": "completed"
    },
    "tags": []
   },
   "outputs": [
    {
     "data": {
      "text/plain": [
       "{'AAPL': [(114.30286229230443, -0.01131107924133213)],\n",
       " 'MSFT': [(210.7578581613845, 0.004657629731012347)],\n",
       " 'AMZN': [(3163.157885991625, 0.004582134896408934)],\n",
       " 'FB': [(264.17502849474914, 0.008686653880427024)]}"
      ]
     },
     "execution_count": 6,
     "metadata": {},
     "output_type": "execute_result"
    }
   ],
   "source": [
    "mth_pred_asset"
   ]
  },
  {
   "cell_type": "code",
   "execution_count": 7,
   "metadata": {
    "execution": {
     "iopub.execute_input": "2020-12-11T14:15:03.270043Z",
     "iopub.status.busy": "2020-12-11T14:15:03.268930Z",
     "iopub.status.idle": "2020-12-11T14:15:03.272158Z",
     "shell.execute_reply": "2020-12-11T14:15:03.272563Z"
    },
    "papermill": {
     "duration": 0.015869,
     "end_time": "2020-12-11T14:15:03.272671",
     "exception": false,
     "start_time": "2020-12-11T14:15:03.256802",
     "status": "completed"
    },
    "tags": []
   },
   "outputs": [
    {
     "data": {
      "text/plain": [
       "AAPL     108.672516\n",
       "MSFT     201.941315\n",
       "AMZN    3036.149902\n",
       "FB       263.109985\n",
       "Name: 2020-10-30 00:00:00, dtype: float64"
      ]
     },
     "execution_count": 7,
     "metadata": {},
     "output_type": "execute_result"
    }
   ],
   "source": [
    "all_df[['AAPL', 'MSFT', 'AMZN', 'FB']].iloc[-1]"
   ]
  }
 ],
 "metadata": {
  "kernelspec": {
   "display_name": "Python 3",
   "language": "python",
   "name": "python3"
  },
  "language_info": {
   "codemirror_mode": {
    "name": "ipython",
    "version": 3
   },
   "file_extension": ".py",
   "mimetype": "text/x-python",
   "name": "python",
   "nbconvert_exporter": "python",
   "pygments_lexer": "ipython3",
   "version": "3.7.6"
  },
  "papermill": {
   "duration": 8.254743,
   "end_time": "2020-12-11T14:15:03.388308",
   "environment_variables": {},
   "exception": null,
   "input_path": "__notebook__.ipynb",
   "output_path": "__notebook__.ipynb",
   "parameters": {},
   "start_time": "2020-12-11T14:14:55.133565",
   "version": "2.1.0"
  }
 },
 "nbformat": 4,
 "nbformat_minor": 4
}
